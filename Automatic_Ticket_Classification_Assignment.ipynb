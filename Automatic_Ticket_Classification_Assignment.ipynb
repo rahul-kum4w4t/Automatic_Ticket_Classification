{
 "cells": [
  {
   "cell_type": "markdown",
   "metadata": {
    "id": "rhR-ZUkwJrFn"
   },
   "source": [
    "## Problem Statement \n",
    "\n",
    "You need to build a model that is able to classify customer complaints based on the products/services. By doing so, you can segregate these tickets into their relevant categories and, therefore, help in the quick resolution of the issue.\n",
    "\n",
    "You will be doing topic modelling on the <b>.json</b> data provided by the company. Since this data is not labelled, you need to apply NMF to analyse patterns and classify tickets into the following five clusters based on their products/services:\n",
    "\n",
    "* Credit card / Prepaid card\n",
    "\n",
    "* Bank account services\n",
    "\n",
    "* Theft/Dispute reporting\n",
    "\n",
    "* Mortgages/loans\n",
    "\n",
    "* Others \n",
    "\n",
    "\n",
    "With the help of topic modelling, you will be able to map each ticket onto its respective department/category. You can then use this data to train any supervised model such as logistic regression, decision tree or random forest. Using this trained model, you can classify any new customer complaint support ticket into its relevant department."
   ]
  },
  {
   "cell_type": "markdown",
   "metadata": {
    "id": "mcgXVNyaLUFS"
   },
   "source": [
    "## Pipelines that needs to be performed:\n",
    "\n",
    "You need to perform the following eight major tasks to complete the assignment:\n",
    "\n",
    "1.  Data loading\n",
    "\n",
    "2. Text preprocessing\n",
    "\n",
    "3. Exploratory data analysis (EDA)\n",
    "\n",
    "4. Feature extraction\n",
    "\n",
    "5. Topic modelling \n",
    "\n",
    "6. Model building using supervised learning\n",
    "\n",
    "7. Model training and evaluation\n",
    "\n",
    "8. Model inference"
   ]
  },
  {
   "cell_type": "markdown",
   "metadata": {
    "id": "JuLFIymAL58u"
   },
   "source": [
    "## Importing the necessary libraries"
   ]
  },
  {
   "cell_type": "code",
   "execution_count": 2,
   "metadata": {},
   "outputs": [
    {
     "name": "stdout",
     "output_type": "stream",
     "text": [
      "Collecting plotly\n",
      "  Downloading plotly-5.10.0-py2.py3-none-any.whl (15.2 MB)\n",
      "Collecting tenacity>=6.2.0\n",
      "  Downloading tenacity-8.0.1-py3-none-any.whl (24 kB)\n",
      "Installing collected packages: tenacity, plotly\n",
      "Successfully installed plotly-5.10.0 tenacity-8.0.1\n"
     ]
    }
   ],
   "source": [
    "!pip install plotly"
   ]
  },
  {
   "cell_type": "code",
   "execution_count": 263,
   "metadata": {
    "id": "O-Q9pqrcJrFr"
   },
   "outputs": [],
   "source": [
    "import json \n",
    "import numpy as np\n",
    "import pandas as pd\n",
    "import re, nltk, spacy, string\n",
    "import en_core_web_sm\n",
    "nlp = en_core_web_sm.load()\n",
    "import seaborn as sns\n",
    "import matplotlib.pyplot as plt\n",
    "%matplotlib inline\n",
    "\n",
    "from plotly.offline import plot\n",
    "import plotly.graph_objects as go\n",
    "import plotly.express as px\n",
    "\n",
    "from sklearn.feature_extraction.text import CountVectorizer, TfidfVectorizer\n",
    "from pprint import pprint"
   ]
  },
  {
   "cell_type": "markdown",
   "metadata": {
    "id": "KtRLCsNVJrFt"
   },
   "source": [
    "## Loading the data\n",
    "\n",
    "The data is in JSON format and we need to convert it to a dataframe."
   ]
  },
  {
   "cell_type": "code",
   "execution_count": 264,
   "metadata": {
    "id": "puVzIf_iJrFt"
   },
   "outputs": [],
   "source": [
    "# Opening JSON file \n",
    "f = open('./complaints.json','r') # Write the path to your data file and load it \n",
    "  \n",
    "# returns JSON object as  \n",
    "# a dictionary \n",
    "data = json.load(f)\n",
    "df=pd.json_normalize(data)"
   ]
  },
  {
   "cell_type": "code",
   "execution_count": 265,
   "metadata": {},
   "outputs": [
    {
     "data": {
      "text/html": [
       "<div>\n",
       "<style scoped>\n",
       "    .dataframe tbody tr th:only-of-type {\n",
       "        vertical-align: middle;\n",
       "    }\n",
       "\n",
       "    .dataframe tbody tr th {\n",
       "        vertical-align: top;\n",
       "    }\n",
       "\n",
       "    .dataframe thead th {\n",
       "        text-align: right;\n",
       "    }\n",
       "</style>\n",
       "<table border=\"1\" class=\"dataframe\">\n",
       "  <thead>\n",
       "    <tr style=\"text-align: right;\">\n",
       "      <th></th>\n",
       "      <th>_index</th>\n",
       "      <th>_type</th>\n",
       "      <th>_id</th>\n",
       "      <th>_score</th>\n",
       "      <th>_source.tags</th>\n",
       "      <th>_source.zip_code</th>\n",
       "      <th>_source.complaint_id</th>\n",
       "      <th>_source.issue</th>\n",
       "      <th>_source.date_received</th>\n",
       "      <th>_source.state</th>\n",
       "      <th>...</th>\n",
       "      <th>_source.company_response</th>\n",
       "      <th>_source.company</th>\n",
       "      <th>_source.submitted_via</th>\n",
       "      <th>_source.date_sent_to_company</th>\n",
       "      <th>_source.company_public_response</th>\n",
       "      <th>_source.sub_product</th>\n",
       "      <th>_source.timely</th>\n",
       "      <th>_source.complaint_what_happened</th>\n",
       "      <th>_source.sub_issue</th>\n",
       "      <th>_source.consumer_consent_provided</th>\n",
       "    </tr>\n",
       "  </thead>\n",
       "  <tbody>\n",
       "    <tr>\n",
       "      <th>0</th>\n",
       "      <td>complaint-public-v2</td>\n",
       "      <td>complaint</td>\n",
       "      <td>3211475</td>\n",
       "      <td>0.0</td>\n",
       "      <td>None</td>\n",
       "      <td>90301</td>\n",
       "      <td>3211475</td>\n",
       "      <td>Attempts to collect debt not owed</td>\n",
       "      <td>2019-04-13T12:00:00-05:00</td>\n",
       "      <td>CA</td>\n",
       "      <td>...</td>\n",
       "      <td>Closed with explanation</td>\n",
       "      <td>JPMORGAN CHASE &amp; CO.</td>\n",
       "      <td>Web</td>\n",
       "      <td>2019-04-13T12:00:00-05:00</td>\n",
       "      <td>None</td>\n",
       "      <td>Credit card debt</td>\n",
       "      <td>Yes</td>\n",
       "      <td></td>\n",
       "      <td>Debt is not yours</td>\n",
       "      <td>Consent not provided</td>\n",
       "    </tr>\n",
       "    <tr>\n",
       "      <th>1</th>\n",
       "      <td>complaint-public-v2</td>\n",
       "      <td>complaint</td>\n",
       "      <td>3229299</td>\n",
       "      <td>0.0</td>\n",
       "      <td>Servicemember</td>\n",
       "      <td>319XX</td>\n",
       "      <td>3229299</td>\n",
       "      <td>Written notification about debt</td>\n",
       "      <td>2019-05-01T12:00:00-05:00</td>\n",
       "      <td>GA</td>\n",
       "      <td>...</td>\n",
       "      <td>Closed with explanation</td>\n",
       "      <td>JPMORGAN CHASE &amp; CO.</td>\n",
       "      <td>Web</td>\n",
       "      <td>2019-05-01T12:00:00-05:00</td>\n",
       "      <td>None</td>\n",
       "      <td>Credit card debt</td>\n",
       "      <td>Yes</td>\n",
       "      <td>Good morning my name is XXXX XXXX and I apprec...</td>\n",
       "      <td>Didn't receive enough information to verify debt</td>\n",
       "      <td>Consent provided</td>\n",
       "    </tr>\n",
       "  </tbody>\n",
       "</table>\n",
       "<p>2 rows × 22 columns</p>\n",
       "</div>"
      ],
      "text/plain": [
       "                _index      _type      _id  _score   _source.tags  \\\n",
       "0  complaint-public-v2  complaint  3211475     0.0           None   \n",
       "1  complaint-public-v2  complaint  3229299     0.0  Servicemember   \n",
       "\n",
       "  _source.zip_code _source.complaint_id                      _source.issue  \\\n",
       "0            90301              3211475  Attempts to collect debt not owed   \n",
       "1            319XX              3229299    Written notification about debt   \n",
       "\n",
       "       _source.date_received _source.state  ... _source.company_response  \\\n",
       "0  2019-04-13T12:00:00-05:00            CA  ...  Closed with explanation   \n",
       "1  2019-05-01T12:00:00-05:00            GA  ...  Closed with explanation   \n",
       "\n",
       "        _source.company _source.submitted_via _source.date_sent_to_company  \\\n",
       "0  JPMORGAN CHASE & CO.                   Web    2019-04-13T12:00:00-05:00   \n",
       "1  JPMORGAN CHASE & CO.                   Web    2019-05-01T12:00:00-05:00   \n",
       "\n",
       "  _source.company_public_response _source.sub_product _source.timely  \\\n",
       "0                            None    Credit card debt            Yes   \n",
       "1                            None    Credit card debt            Yes   \n",
       "\n",
       "                     _source.complaint_what_happened  \\\n",
       "0                                                      \n",
       "1  Good morning my name is XXXX XXXX and I apprec...   \n",
       "\n",
       "                                  _source.sub_issue  \\\n",
       "0                                 Debt is not yours   \n",
       "1  Didn't receive enough information to verify debt   \n",
       "\n",
       "  _source.consumer_consent_provided  \n",
       "0              Consent not provided  \n",
       "1                  Consent provided  \n",
       "\n",
       "[2 rows x 22 columns]"
      ]
     },
     "execution_count": 265,
     "metadata": {},
     "output_type": "execute_result"
    }
   ],
   "source": [
    "df.head(2)"
   ]
  },
  {
   "cell_type": "markdown",
   "metadata": {
    "id": "_xYpH-sAJrFu"
   },
   "source": [
    "## Data preparation"
   ]
  },
  {
   "cell_type": "code",
   "execution_count": 266,
   "metadata": {
    "id": "Lf8ufHH5JrFu"
   },
   "outputs": [
    {
     "data": {
      "text/plain": [
       "0"
      ]
     },
     "execution_count": 266,
     "metadata": {},
     "output_type": "execute_result"
    }
   ],
   "source": [
    "# Inspect the dataframe to understand the given data.\n",
    "df['_source.complaint_what_happened'].isna().sum()"
   ]
  },
  {
   "cell_type": "code",
   "execution_count": 267,
   "metadata": {},
   "outputs": [
    {
     "data": {
      "text/plain": [
       "((78313, 22), (57241, 22))"
      ]
     },
     "execution_count": 267,
     "metadata": {},
     "output_type": "execute_result"
    }
   ],
   "source": [
    "df.shape, df[df['_source.complaint_what_happened'] == ''].shape"
   ]
  },
  {
   "cell_type": "code",
   "execution_count": 268,
   "metadata": {
    "id": "Dwcty-wmJrFw"
   },
   "outputs": [
    {
     "data": {
      "text/plain": [
       "Index(['_index', '_type', '_id', '_score', '_source.tags', '_source.zip_code',\n",
       "       '_source.complaint_id', '_source.issue', '_source.date_received',\n",
       "       '_source.state', '_source.consumer_disputed', '_source.product',\n",
       "       '_source.company_response', '_source.company', '_source.submitted_via',\n",
       "       '_source.date_sent_to_company', '_source.company_public_response',\n",
       "       '_source.sub_product', '_source.timely',\n",
       "       '_source.complaint_what_happened', '_source.sub_issue',\n",
       "       '_source.consumer_consent_provided'],\n",
       "      dtype='object')"
      ]
     },
     "execution_count": 268,
     "metadata": {},
     "output_type": "execute_result"
    }
   ],
   "source": [
    "#print the column names\n",
    "df.columns"
   ]
  },
  {
   "cell_type": "code",
   "execution_count": 269,
   "metadata": {
    "id": "FYCtKXD1JrFw"
   },
   "outputs": [
    {
     "data": {
      "text/html": [
       "<div>\n",
       "<style scoped>\n",
       "    .dataframe tbody tr th:only-of-type {\n",
       "        vertical-align: middle;\n",
       "    }\n",
       "\n",
       "    .dataframe tbody tr th {\n",
       "        vertical-align: top;\n",
       "    }\n",
       "\n",
       "    .dataframe thead th {\n",
       "        text-align: right;\n",
       "    }\n",
       "</style>\n",
       "<table border=\"1\" class=\"dataframe\">\n",
       "  <thead>\n",
       "    <tr style=\"text-align: right;\">\n",
       "      <th></th>\n",
       "      <th>_index</th>\n",
       "      <th>_type</th>\n",
       "      <th>_id</th>\n",
       "      <th>_score</th>\n",
       "      <th>tags</th>\n",
       "      <th>zip_code</th>\n",
       "      <th>complaint_id</th>\n",
       "      <th>issue</th>\n",
       "      <th>date_received</th>\n",
       "      <th>state</th>\n",
       "      <th>...</th>\n",
       "      <th>company_response</th>\n",
       "      <th>company</th>\n",
       "      <th>submitted_via</th>\n",
       "      <th>date_sent_to_company</th>\n",
       "      <th>company_public_response</th>\n",
       "      <th>sub_product</th>\n",
       "      <th>timely</th>\n",
       "      <th>complaint_what_happened</th>\n",
       "      <th>sub_issue</th>\n",
       "      <th>consumer_consent_provided</th>\n",
       "    </tr>\n",
       "  </thead>\n",
       "  <tbody>\n",
       "    <tr>\n",
       "      <th>0</th>\n",
       "      <td>complaint-public-v2</td>\n",
       "      <td>complaint</td>\n",
       "      <td>3211475</td>\n",
       "      <td>0.0</td>\n",
       "      <td>None</td>\n",
       "      <td>90301</td>\n",
       "      <td>3211475</td>\n",
       "      <td>Attempts to collect debt not owed</td>\n",
       "      <td>2019-04-13T12:00:00-05:00</td>\n",
       "      <td>CA</td>\n",
       "      <td>...</td>\n",
       "      <td>Closed with explanation</td>\n",
       "      <td>JPMORGAN CHASE &amp; CO.</td>\n",
       "      <td>Web</td>\n",
       "      <td>2019-04-13T12:00:00-05:00</td>\n",
       "      <td>None</td>\n",
       "      <td>Credit card debt</td>\n",
       "      <td>Yes</td>\n",
       "      <td></td>\n",
       "      <td>Debt is not yours</td>\n",
       "      <td>Consent not provided</td>\n",
       "    </tr>\n",
       "    <tr>\n",
       "      <th>1</th>\n",
       "      <td>complaint-public-v2</td>\n",
       "      <td>complaint</td>\n",
       "      <td>3229299</td>\n",
       "      <td>0.0</td>\n",
       "      <td>Servicemember</td>\n",
       "      <td>319XX</td>\n",
       "      <td>3229299</td>\n",
       "      <td>Written notification about debt</td>\n",
       "      <td>2019-05-01T12:00:00-05:00</td>\n",
       "      <td>GA</td>\n",
       "      <td>...</td>\n",
       "      <td>Closed with explanation</td>\n",
       "      <td>JPMORGAN CHASE &amp; CO.</td>\n",
       "      <td>Web</td>\n",
       "      <td>2019-05-01T12:00:00-05:00</td>\n",
       "      <td>None</td>\n",
       "      <td>Credit card debt</td>\n",
       "      <td>Yes</td>\n",
       "      <td>Good morning my name is XXXX XXXX and I apprec...</td>\n",
       "      <td>Didn't receive enough information to verify debt</td>\n",
       "      <td>Consent provided</td>\n",
       "    </tr>\n",
       "  </tbody>\n",
       "</table>\n",
       "<p>2 rows × 22 columns</p>\n",
       "</div>"
      ],
      "text/plain": [
       "                _index      _type      _id  _score           tags zip_code  \\\n",
       "0  complaint-public-v2  complaint  3211475     0.0           None    90301   \n",
       "1  complaint-public-v2  complaint  3229299     0.0  Servicemember    319XX   \n",
       "\n",
       "  complaint_id                              issue              date_received  \\\n",
       "0      3211475  Attempts to collect debt not owed  2019-04-13T12:00:00-05:00   \n",
       "1      3229299    Written notification about debt  2019-05-01T12:00:00-05:00   \n",
       "\n",
       "  state  ...         company_response               company submitted_via  \\\n",
       "0    CA  ...  Closed with explanation  JPMORGAN CHASE & CO.           Web   \n",
       "1    GA  ...  Closed with explanation  JPMORGAN CHASE & CO.           Web   \n",
       "\n",
       "        date_sent_to_company company_public_response       sub_product timely  \\\n",
       "0  2019-04-13T12:00:00-05:00                    None  Credit card debt    Yes   \n",
       "1  2019-05-01T12:00:00-05:00                    None  Credit card debt    Yes   \n",
       "\n",
       "                             complaint_what_happened  \\\n",
       "0                                                      \n",
       "1  Good morning my name is XXXX XXXX and I apprec...   \n",
       "\n",
       "                                          sub_issue consumer_consent_provided  \n",
       "0                                 Debt is not yours      Consent not provided  \n",
       "1  Didn't receive enough information to verify debt          Consent provided  \n",
       "\n",
       "[2 rows x 22 columns]"
      ]
     },
     "execution_count": 269,
     "metadata": {},
     "output_type": "execute_result"
    }
   ],
   "source": [
    "#Assign new column names\n",
    "columnNames = [ col.removeprefix('_source.') if col.startswith('_source.') else col for col in df.columns]\n",
    "df.columns = columnNames\n",
    "df.head(2)"
   ]
  },
  {
   "cell_type": "code",
   "execution_count": 270,
   "metadata": {
    "id": "Jfxd8VSmJrFy"
   },
   "outputs": [
    {
     "data": {
      "text/plain": [
       "(21072, 23)"
      ]
     },
     "execution_count": 270,
     "metadata": {},
     "output_type": "execute_result"
    }
   ],
   "source": [
    "#Remove all rows where complaints column is nan\n",
    "df = df[df['complaint_what_happened'] != ''].reset_index()\n",
    "df.shape"
   ]
  },
  {
   "cell_type": "markdown",
   "metadata": {
    "id": "L944HZpsJrFy"
   },
   "source": [
    "## Prepare the text for topic modeling\n",
    "\n",
    "Once you have removed all the blank complaints, you need to:\n",
    "\n",
    "* Make the text lowercase\n",
    "* Remove text in square brackets\n",
    "* Remove punctuation\n",
    "* Remove words containing numbers\n",
    "\n",
    "\n",
    "Once you have done these cleaning operations you need to perform the following:\n",
    "* Lemmatize the texts\n",
    "* Extract the POS tags of the lemmatized text and remove all the words which have tags other than NN[tag == \"NN\"].\n"
   ]
  },
  {
   "cell_type": "code",
   "execution_count": 271,
   "metadata": {
    "scrolled": true
   },
   "outputs": [
    {
     "name": "stdout",
     "output_type": "stream",
     "text": [
      "Requirement already satisfied: swifter in d:\\anaconda3\\lib\\site-packages (1.3.4)\n",
      "Requirement already satisfied: pandas>=1.0.0 in d:\\anaconda3\\lib\\site-packages (from swifter) (1.3.4)\n",
      "Requirement already satisfied: parso>0.4.0 in d:\\anaconda3\\lib\\site-packages (from swifter) (0.8.2)\n",
      "Requirement already satisfied: bleach>=3.1.1 in d:\\anaconda3\\lib\\site-packages (from swifter) (4.0.0)\n",
      "Requirement already satisfied: ipywidgets>=7.0.0 in d:\\anaconda3\\lib\\site-packages (from swifter) (7.6.5)\n",
      "Requirement already satisfied: dask[dataframe]>=2.10.0 in d:\\anaconda3\\lib\\site-packages (from swifter) (2021.10.0)\n",
      "Requirement already satisfied: tqdm>=4.33.0 in d:\\anaconda3\\lib\\site-packages (from swifter) (4.62.3)\n",
      "Requirement already satisfied: cloudpickle>=0.2.2 in d:\\anaconda3\\lib\\site-packages (from swifter) (2.0.0)\n",
      "Requirement already satisfied: psutil>=5.6.6 in d:\\anaconda3\\lib\\site-packages (from swifter) (5.8.0)\n",
      "Requirement already satisfied: webencodings in d:\\anaconda3\\lib\\site-packages (from bleach>=3.1.1->swifter) (0.5.1)\n",
      "Requirement already satisfied: packaging in d:\\anaconda3\\lib\\site-packages (from bleach>=3.1.1->swifter) (21.0)\n",
      "Requirement already satisfied: six>=1.9.0 in d:\\anaconda3\\lib\\site-packages (from bleach>=3.1.1->swifter) (1.16.0)\n",
      "Requirement already satisfied: fsspec>=0.6.0 in d:\\anaconda3\\lib\\site-packages (from dask[dataframe]>=2.10.0->swifter) (2021.10.1)\n",
      "Requirement already satisfied: partd>=0.3.10 in d:\\anaconda3\\lib\\site-packages (from dask[dataframe]>=2.10.0->swifter) (1.2.0)\n",
      "Requirement already satisfied: pyyaml in d:\\anaconda3\\lib\\site-packages (from dask[dataframe]>=2.10.0->swifter) (6.0)\n",
      "Requirement already satisfied: toolz>=0.8.2 in d:\\anaconda3\\lib\\site-packages (from dask[dataframe]>=2.10.0->swifter) (0.11.1)\n",
      "Requirement already satisfied: numpy>=1.18 in d:\\anaconda3\\lib\\site-packages (from dask[dataframe]>=2.10.0->swifter) (1.20.3)\n",
      "Requirement already satisfied: traitlets>=4.3.1 in d:\\anaconda3\\lib\\site-packages (from ipywidgets>=7.0.0->swifter) (5.1.0)\n",
      "Requirement already satisfied: jupyterlab-widgets>=1.0.0 in d:\\anaconda3\\lib\\site-packages (from ipywidgets>=7.0.0->swifter) (1.0.0)\n",
      "Requirement already satisfied: nbformat>=4.2.0 in d:\\anaconda3\\lib\\site-packages (from ipywidgets>=7.0.0->swifter) (5.1.3)\n",
      "Requirement already satisfied: ipykernel>=4.5.1 in d:\\anaconda3\\lib\\site-packages (from ipywidgets>=7.0.0->swifter) (6.4.1)\n",
      "Requirement already satisfied: ipython>=4.0.0 in d:\\anaconda3\\lib\\site-packages (from ipywidgets>=7.0.0->swifter) (7.29.0)\n",
      "Requirement already satisfied: ipython-genutils~=0.2.0 in d:\\anaconda3\\lib\\site-packages (from ipywidgets>=7.0.0->swifter) (0.2.0)\n",
      "Requirement already satisfied: widgetsnbextension~=3.5.0 in d:\\anaconda3\\lib\\site-packages (from ipywidgets>=7.0.0->swifter) (3.5.1)\n",
      "Requirement already satisfied: matplotlib-inline<0.2.0,>=0.1.0 in d:\\anaconda3\\lib\\site-packages (from ipykernel>=4.5.1->ipywidgets>=7.0.0->swifter) (0.1.2)\n",
      "Requirement already satisfied: jupyter-client<8.0 in d:\\anaconda3\\lib\\site-packages (from ipykernel>=4.5.1->ipywidgets>=7.0.0->swifter) (6.1.12)\n",
      "Requirement already satisfied: tornado<7.0,>=4.2 in d:\\anaconda3\\lib\\site-packages (from ipykernel>=4.5.1->ipywidgets>=7.0.0->swifter) (6.1)\n",
      "Requirement already satisfied: debugpy<2.0,>=1.0.0 in d:\\anaconda3\\lib\\site-packages (from ipykernel>=4.5.1->ipywidgets>=7.0.0->swifter) (1.4.1)\n",
      "Requirement already satisfied: prompt-toolkit!=3.0.0,!=3.0.1,<3.1.0,>=2.0.0 in d:\\anaconda3\\lib\\site-packages (from ipython>=4.0.0->ipywidgets>=7.0.0->swifter) (3.0.20)\n",
      "Requirement already satisfied: backcall in d:\\anaconda3\\lib\\site-packages (from ipython>=4.0.0->ipywidgets>=7.0.0->swifter) (0.2.0)\n",
      "Requirement already satisfied: colorama in d:\\anaconda3\\lib\\site-packages (from ipython>=4.0.0->ipywidgets>=7.0.0->swifter) (0.4.4)\n",
      "Requirement already satisfied: pygments in d:\\anaconda3\\lib\\site-packages (from ipython>=4.0.0->ipywidgets>=7.0.0->swifter) (2.10.0)\n",
      "Requirement already satisfied: decorator in d:\\anaconda3\\lib\\site-packages (from ipython>=4.0.0->ipywidgets>=7.0.0->swifter) (5.1.0)\n",
      "Requirement already satisfied: setuptools>=18.5 in d:\\anaconda3\\lib\\site-packages (from ipython>=4.0.0->ipywidgets>=7.0.0->swifter) (58.0.4)\n",
      "Requirement already satisfied: jedi>=0.16 in d:\\anaconda3\\lib\\site-packages (from ipython>=4.0.0->ipywidgets>=7.0.0->swifter) (0.18.0)\n",
      "Requirement already satisfied: pickleshare in d:\\anaconda3\\lib\\site-packages (from ipython>=4.0.0->ipywidgets>=7.0.0->swifter) (0.7.5)\n",
      "Requirement already satisfied: python-dateutil>=2.1 in d:\\anaconda3\\lib\\site-packages (from jupyter-client<8.0->ipykernel>=4.5.1->ipywidgets>=7.0.0->swifter) (2.8.2)\n",
      "Requirement already satisfied: jupyter-core>=4.6.0 in d:\\anaconda3\\lib\\site-packages (from jupyter-client<8.0->ipykernel>=4.5.1->ipywidgets>=7.0.0->swifter) (4.8.1)\n",
      "Requirement already satisfied: pyzmq>=13 in d:\\anaconda3\\lib\\site-packages (from jupyter-client<8.0->ipykernel>=4.5.1->ipywidgets>=7.0.0->swifter) (22.2.1)\n",
      "Requirement already satisfied: pywin32>=1.0 in d:\\anaconda3\\lib\\site-packages (from jupyter-core>=4.6.0->jupyter-client<8.0->ipykernel>=4.5.1->ipywidgets>=7.0.0->swifter) (228)\n",
      "Requirement already satisfied: jsonschema!=2.5.0,>=2.4 in d:\\anaconda3\\lib\\site-packages (from nbformat>=4.2.0->ipywidgets>=7.0.0->swifter) (3.2.0)\n",
      "Requirement already satisfied: attrs>=17.4.0 in d:\\anaconda3\\lib\\site-packages (from jsonschema!=2.5.0,>=2.4->nbformat>=4.2.0->ipywidgets>=7.0.0->swifter) (21.2.0)\n",
      "Requirement already satisfied: pyrsistent>=0.14.0 in d:\\anaconda3\\lib\\site-packages (from jsonschema!=2.5.0,>=2.4->nbformat>=4.2.0->ipywidgets>=7.0.0->swifter) (0.18.0)\n",
      "Requirement already satisfied: pyparsing>=2.0.2 in d:\\anaconda3\\lib\\site-packages (from packaging->bleach>=3.1.1->swifter) (3.0.4)\n",
      "Requirement already satisfied: pytz>=2017.3 in d:\\anaconda3\\lib\\site-packages (from pandas>=1.0.0->swifter) (2021.3)\n",
      "Requirement already satisfied: locket in d:\\anaconda3\\lib\\site-packages\\locket-0.2.1-py3.9.egg (from partd>=0.3.10->dask[dataframe]>=2.10.0->swifter) (0.2.1)\n",
      "Requirement already satisfied: wcwidth in d:\\anaconda3\\lib\\site-packages (from prompt-toolkit!=3.0.0,!=3.0.1,<3.1.0,>=2.0.0->ipython>=4.0.0->ipywidgets>=7.0.0->swifter) (0.2.5)\n",
      "Requirement already satisfied: notebook>=4.4.1 in d:\\anaconda3\\lib\\site-packages (from widgetsnbextension~=3.5.0->ipywidgets>=7.0.0->swifter) (6.4.5)\n",
      "Requirement already satisfied: Send2Trash>=1.5.0 in d:\\anaconda3\\lib\\site-packages (from notebook>=4.4.1->widgetsnbextension~=3.5.0->ipywidgets>=7.0.0->swifter) (1.8.0)\n",
      "Requirement already satisfied: jinja2 in d:\\anaconda3\\lib\\site-packages (from notebook>=4.4.1->widgetsnbextension~=3.5.0->ipywidgets>=7.0.0->swifter) (2.11.3)\n",
      "Requirement already satisfied: terminado>=0.8.3 in d:\\anaconda3\\lib\\site-packages (from notebook>=4.4.1->widgetsnbextension~=3.5.0->ipywidgets>=7.0.0->swifter) (0.9.4)\n",
      "Requirement already satisfied: prometheus-client in d:\\anaconda3\\lib\\site-packages (from notebook>=4.4.1->widgetsnbextension~=3.5.0->ipywidgets>=7.0.0->swifter) (0.11.0)\n",
      "Requirement already satisfied: nbconvert in d:\\anaconda3\\lib\\site-packages (from notebook>=4.4.1->widgetsnbextension~=3.5.0->ipywidgets>=7.0.0->swifter) (6.1.0)\n",
      "Requirement already satisfied: argon2-cffi in d:\\anaconda3\\lib\\site-packages (from notebook>=4.4.1->widgetsnbextension~=3.5.0->ipywidgets>=7.0.0->swifter) (20.1.0)\n",
      "Requirement already satisfied: pywinpty>=0.5 in d:\\anaconda3\\lib\\site-packages (from terminado>=0.8.3->notebook>=4.4.1->widgetsnbextension~=3.5.0->ipywidgets>=7.0.0->swifter) (0.5.7)\n",
      "Requirement already satisfied: cffi>=1.0.0 in d:\\anaconda3\\lib\\site-packages (from argon2-cffi->notebook>=4.4.1->widgetsnbextension~=3.5.0->ipywidgets>=7.0.0->swifter) (1.14.6)\n",
      "Requirement already satisfied: pycparser in d:\\anaconda3\\lib\\site-packages (from cffi>=1.0.0->argon2-cffi->notebook>=4.4.1->widgetsnbextension~=3.5.0->ipywidgets>=7.0.0->swifter) (2.20)\n",
      "Requirement already satisfied: MarkupSafe>=0.23 in d:\\anaconda3\\lib\\site-packages (from jinja2->notebook>=4.4.1->widgetsnbextension~=3.5.0->ipywidgets>=7.0.0->swifter) (1.1.1)\n",
      "Requirement already satisfied: mistune<2,>=0.8.1 in d:\\anaconda3\\lib\\site-packages (from nbconvert->notebook>=4.4.1->widgetsnbextension~=3.5.0->ipywidgets>=7.0.0->swifter) (0.8.4)\n",
      "Requirement already satisfied: entrypoints>=0.2.2 in d:\\anaconda3\\lib\\site-packages (from nbconvert->notebook>=4.4.1->widgetsnbextension~=3.5.0->ipywidgets>=7.0.0->swifter) (0.3)\n",
      "Requirement already satisfied: jupyterlab-pygments in d:\\anaconda3\\lib\\site-packages (from nbconvert->notebook>=4.4.1->widgetsnbextension~=3.5.0->ipywidgets>=7.0.0->swifter) (0.1.2)\n",
      "Requirement already satisfied: pandocfilters>=1.4.1 in d:\\anaconda3\\lib\\site-packages (from nbconvert->notebook>=4.4.1->widgetsnbextension~=3.5.0->ipywidgets>=7.0.0->swifter) (1.4.3)\n",
      "Requirement already satisfied: defusedxml in d:\\anaconda3\\lib\\site-packages (from nbconvert->notebook>=4.4.1->widgetsnbextension~=3.5.0->ipywidgets>=7.0.0->swifter) (0.7.1)\n",
      "Requirement already satisfied: testpath in d:\\anaconda3\\lib\\site-packages (from nbconvert->notebook>=4.4.1->widgetsnbextension~=3.5.0->ipywidgets>=7.0.0->swifter) (0.5.0)\n",
      "Requirement already satisfied: nbclient<0.6.0,>=0.5.0 in d:\\anaconda3\\lib\\site-packages (from nbconvert->notebook>=4.4.1->widgetsnbextension~=3.5.0->ipywidgets>=7.0.0->swifter) (0.5.3)\n",
      "Requirement already satisfied: nest-asyncio in d:\\anaconda3\\lib\\site-packages (from nbclient<0.6.0,>=0.5.0->nbconvert->notebook>=4.4.1->widgetsnbextension~=3.5.0->ipywidgets>=7.0.0->swifter) (1.5.1)\n",
      "Requirement already satisfied: async-generator in d:\\anaconda3\\lib\\site-packages (from nbclient<0.6.0,>=0.5.0->nbconvert->notebook>=4.4.1->widgetsnbextension~=3.5.0->ipywidgets>=7.0.0->swifter) (1.10)\n"
     ]
    }
   ],
   "source": [
    "!pip install swifter"
   ]
  },
  {
   "cell_type": "code",
   "execution_count": 272,
   "metadata": {},
   "outputs": [],
   "source": [
    "import swifter\n",
    "import re"
   ]
  },
  {
   "cell_type": "code",
   "execution_count": 273,
   "metadata": {},
   "outputs": [
    {
     "data": {
      "text/plain": [
       "'Good morning my name is XXXX XXXX and I appreciate it if you could help me put a stop to Chase Bank cardmember services. \\nIn 2018 I wrote to Chase asking for debt verification and what they sent me a statement which is not acceptable. I am asking the bank to validate the debt. Instead I been receiving mail every month from them attempting to collect a debt. \\nI have a right to know this information as a consumer. \\n\\nChase account # XXXX XXXX XXXX XXXX Thanks in advance for your help.'"
      ]
     },
     "execution_count": 273,
     "metadata": {},
     "output_type": "execute_result"
    }
   ],
   "source": [
    "df['complaint_what_happened'][0]"
   ]
  },
  {
   "cell_type": "code",
   "execution_count": 274,
   "metadata": {
    "id": "qm7SjjSkJrFz"
   },
   "outputs": [
    {
     "data": {
      "application/vnd.jupyter.widget-view+json": {
       "model_id": "5a423136b4204712ac2043dab5832108",
       "version_major": 2,
       "version_minor": 0
      },
      "text/plain": [
       "Pandas Apply:   0%|          | 0/21072 [00:00<?, ?it/s]"
      ]
     },
     "metadata": {},
     "output_type": "display_data"
    }
   ],
   "source": [
    "# Write your function here to clean the text and remove all the unnecessary elements.\n",
    "newComplaintData = df['complaint_what_happened'].swifter.apply(lambda x: re.sub(r'\\s{2,}', ' ', re.sub(r'(?:x{2,})|[^A-z\\d\\s\\.\\-]+|\\b\\d+(?:\\.\\d+)?\\b', '', x,flags=re.I, count=100000), count=100000).lower())"
   ]
  },
  {
   "cell_type": "code",
   "execution_count": 275,
   "metadata": {},
   "outputs": [
    {
     "name": "stdout",
     "output_type": "stream",
     "text": [
      "****Before cleaning*******\n",
      "I made a purchase with XXXX XXXX XXXX on XX/XX/2019 in the amount of {$38.00}. I was charged twice for this transaction. I placed a disputes case with Chase bank on XX/XX/2019 when I noticed the charge on my account. I called back on Sunday, XX/XX/2019 about the provisional credit for the charge and again on Monday, XX/XX/2019. I was told the charge had to post before a provisional credit could be provided. I used my debt card on Monday, XX/XX/2019 then tried to use it again but it would not work. I went to Chase bank on XXXX XXXX XXXX in XXXX XXXX, Nevada and was told that my account was closed due to fraudulent activity. I was shocked because I had not reported fraud on my account. I later found out that I was being accused by the disputes department of placing a fraudulent disputes case for the duplicate charge from XXXX XXXX  XXXX. I later contacted XXXX XXXX  XXXX again and was told that they DID see a duplicate charge and would credit my account within 3 - 5  days. I contacted the chase disputes department again on Monday, XX/XX/XXXX. 2019 and explained thaXXXX XXXX XXXX XXXX would credit my account and that I did not like being accused of making a fraudulent disputes claim. The escalation manager did NOT care and told me that Chase decision on closing my account was final. I had been a customer of Chase for XXXX   years. My character has been challenged by the disputes agents and I consider this to be detrimental to my character and slander. \n",
      "\n",
      "I am NOT seeking to keep my account open with Chase BUT I also do NOT want Chase reporting that they closed my checking account involuntarily. \n",
      "\n",
      "Once again, I do NOT want Chase to have the checking account that I had with them being reflecting on any public records as being closed as involuntary closure by Chase. \n",
      "\n",
      "I did nothing wrong by filing a disputes claim for the duplicate charge or any other disputes cases that were filed in the past.\n",
      "\n",
      "*********after cleaning*******\n",
      "i made a purchase with on in the amount of . i was charged twice for this transaction. i placed a disputes case with chase bank on when i noticed the charge on my account. i called back on sunday about the provisional credit for the charge and again on monday . i was told the charge had to post before a provisional credit could be provided. i used my debt card on monday then tried to use it again but it would not work. i went to chase bank on in nevada and was told that my account was closed due to fraudulent activity. i was shocked because i had not reported fraud on my account. i later found out that i was being accused by the disputes department of placing a fraudulent disputes case for the duplicate charge from . i later contacted again and was told that they did see a duplicate charge and would credit my account within - days. i contacted the chase disputes department again on monday . and explained tha would credit my account and that i did not like being accused of making a fraudulent disputes claim. the escalation manager did not care and told me that chase decision on closing my account was final. i had been a customer of chase for years. my character has been challenged by the disputes agents and i consider this to be detrimental to my character and slander. i am not seeking to keep my account open with chase but i also do not want chase reporting that they closed my checking account involuntarily. once again i do not want chase to have the checking account that i had with them being reflecting on any public records as being closed as involuntary closure by chase. i did nothing wrong by filing a disputes claim for the duplicate charge or any other disputes cases that were filed in the past.\n"
     ]
    }
   ],
   "source": [
    "print('****Before cleaning*******')\n",
    "print(df['complaint_what_happened'][19])\n",
    "print('\\n*********after cleaning*******')\n",
    "print(newComplaintData[19])"
   ]
  },
  {
   "cell_type": "code",
   "execution_count": 276,
   "metadata": {
    "id": "zgOu8t8HJrFz"
   },
   "outputs": [],
   "source": [
    "#Write your function to Lemmatize the texts\n",
    "def lematize_pos(text):\n",
    "    doc = nlp(text)\n",
    "    lemma_complaint = \" \".join([token.lemma_ for token in doc])\n",
    "    pos_filtered = \" \".join([token.lemma_ for token in doc if token.pos_ == \"NOUN\"])\n",
    "    return lemma_complaint, pos_filtered"
   ]
  },
  {
   "cell_type": "code",
   "execution_count": 277,
   "metadata": {},
   "outputs": [
    {
     "data": {
      "application/vnd.jupyter.widget-view+json": {
       "model_id": "371236908a32443e9914551c2df7622d",
       "version_major": 2,
       "version_minor": 0
      },
      "text/plain": [
       "Pandas Apply:   0%|          | 0/21072 [00:00<?, ?it/s]"
      ]
     },
     "metadata": {},
     "output_type": "display_data"
    }
   ],
   "source": [
    "lematized_pos_results  = newComplaintData.swifter.apply(lematize_pos)"
   ]
  },
  {
   "cell_type": "code",
   "execution_count": 278,
   "metadata": {},
   "outputs": [],
   "source": [
    "lemma_complaint = []\n",
    "pos_complaint =[]\n",
    "for l_c, p_f in lematized_pos_results:\n",
    "    lemma_complaint.append(l_c)\n",
    "    pos_complaint.append(p_f)"
   ]
  },
  {
   "cell_type": "code",
   "execution_count": 279,
   "metadata": {},
   "outputs": [
    {
     "data": {
      "text/plain": [
       "('I upgrade my card in and be tell by the agent who do the upgrade my anniversary date would not change . it turn the agent be give I the wrong information in order to upgrade the account . change my anniversary date from to without my consent have the recording of the agent who be mislead I .',\n",
       " 'card agent anniversary date agent information order account anniversary date consent recording agent')"
      ]
     },
     "execution_count": 279,
     "metadata": {},
     "output_type": "execute_result"
    }
   ],
   "source": [
    "lematized_pos_results[1]"
   ]
  },
  {
   "cell_type": "code",
   "execution_count": 311,
   "metadata": {
    "id": "uXnN7aa_JrF0"
   },
   "outputs": [],
   "source": [
    "#Create a dataframe('df_clean') that will have only the complaints and the lemmatized complaints \n",
    "df_clean = pd.DataFrame({\"complaints_clean\" : newComplaintData,\n",
    "                         \"complaint_lemmatized\" : lemma_complaint,\n",
    "                         \"complaint_POS_removed\" : pos_complaint\n",
    "                        })\n",
    "df_clean.reset_index(drop = True, inplace = True)"
   ]
  },
  {
   "cell_type": "code",
   "execution_count": 312,
   "metadata": {
    "id": "nOiDVvEIJrF0"
   },
   "outputs": [
    {
     "data": {
      "text/html": [
       "<div>\n",
       "<style scoped>\n",
       "    .dataframe tbody tr th:only-of-type {\n",
       "        vertical-align: middle;\n",
       "    }\n",
       "\n",
       "    .dataframe tbody tr th {\n",
       "        vertical-align: top;\n",
       "    }\n",
       "\n",
       "    .dataframe thead th {\n",
       "        text-align: right;\n",
       "    }\n",
       "</style>\n",
       "<table border=\"1\" class=\"dataframe\">\n",
       "  <thead>\n",
       "    <tr style=\"text-align: right;\">\n",
       "      <th></th>\n",
       "      <th>complaints_clean</th>\n",
       "      <th>complaint_lemmatized</th>\n",
       "      <th>complaint_POS_removed</th>\n",
       "    </tr>\n",
       "  </thead>\n",
       "  <tbody>\n",
       "    <tr>\n",
       "      <th>0</th>\n",
       "      <td>good morning my name is and i appreciate it if...</td>\n",
       "      <td>good morning my name be and I appreciate it if...</td>\n",
       "      <td>morning name stop debt verification statement ...</td>\n",
       "    </tr>\n",
       "    <tr>\n",
       "      <th>1</th>\n",
       "      <td>i upgraded my card in and was told by the agen...</td>\n",
       "      <td>I upgrade my card in and be tell by the agent ...</td>\n",
       "      <td>card agent anniversary date agent information ...</td>\n",
       "    </tr>\n",
       "    <tr>\n",
       "      <th>2</th>\n",
       "      <td>chase card was reported on . however fraudulen...</td>\n",
       "      <td>chase card be report on . however fraudulent a...</td>\n",
       "      <td>chase card application identity consent servic...</td>\n",
       "    </tr>\n",
       "    <tr>\n",
       "      <th>3</th>\n",
       "      <td>on while trying to book a ticket i came across...</td>\n",
       "      <td>on while try to book a ticket I come across an...</td>\n",
       "      <td>ticket offer ticket reward card information of...</td>\n",
       "    </tr>\n",
       "    <tr>\n",
       "      <th>4</th>\n",
       "      <td>my grand son give me check for i deposit it in...</td>\n",
       "      <td>my grand son give I check for I deposit it int...</td>\n",
       "      <td>son check chase account fund chase bank accoun...</td>\n",
       "    </tr>\n",
       "  </tbody>\n",
       "</table>\n",
       "</div>"
      ],
      "text/plain": [
       "                                    complaints_clean  \\\n",
       "0  good morning my name is and i appreciate it if...   \n",
       "1  i upgraded my card in and was told by the agen...   \n",
       "2  chase card was reported on . however fraudulen...   \n",
       "3  on while trying to book a ticket i came across...   \n",
       "4  my grand son give me check for i deposit it in...   \n",
       "\n",
       "                                complaint_lemmatized  \\\n",
       "0  good morning my name be and I appreciate it if...   \n",
       "1  I upgrade my card in and be tell by the agent ...   \n",
       "2  chase card be report on . however fraudulent a...   \n",
       "3  on while try to book a ticket I come across an...   \n",
       "4  my grand son give I check for I deposit it int...   \n",
       "\n",
       "                               complaint_POS_removed  \n",
       "0  morning name stop debt verification statement ...  \n",
       "1  card agent anniversary date agent information ...  \n",
       "2  chase card application identity consent servic...  \n",
       "3  ticket offer ticket reward card information of...  \n",
       "4  son check chase account fund chase bank accoun...  "
      ]
     },
     "execution_count": 312,
     "metadata": {},
     "output_type": "execute_result"
    }
   ],
   "source": [
    "df_clean.head(5)"
   ]
  },
  {
   "cell_type": "markdown",
   "metadata": {
    "id": "_7Un1AElJrF2"
   },
   "source": [
    "## Exploratory data analysis to get familiar with the data.\n",
    "\n",
    "Write the code in this task to perform the following:\n",
    "\n",
    "*   Visualise the data according to the 'Complaint' character length\n",
    "*   Using a word cloud find the top 40 words by frequency among all the articles after processing the text\n",
    "*   Find the top unigrams,bigrams and trigrams by frequency among all the complaints after processing the text. ‘\n",
    "\n",
    "\n"
   ]
  },
  {
   "cell_type": "code",
   "execution_count": 313,
   "metadata": {
    "id": "q-zaqJF6JrF2"
   },
   "outputs": [
    {
     "data": {
      "image/png": "[encoded data removed]",
      "text/plain": [
       "<Figure size 720x432 with 1 Axes>"
      ]
     },
     "metadata": {
      "needs_background": "light"
     },
     "output_type": "display_data"
    },
    {
     "data": {
      "image/png": "[encoded data removed]",
      "text/plain": [
       "<Figure size 720x432 with 1 Axes>"
      ]
     },
     "metadata": {
      "needs_background": "light"
     },
     "output_type": "display_data"
    },
    {
     "data": {
      "image/png": "[encoded data removed]",
      "text/plain": [
       "<Figure size 720x432 with 1 Axes>"
      ]
     },
     "metadata": {
      "needs_background": "light"
     },
     "output_type": "display_data"
    }
   ],
   "source": [
    "# Write your code here to visualise the data according to the 'Complaint' character length\n",
    "plt.figure(figsize=(10,6))\n",
    "plt.hist(df_clean['complaints_clean'].str.len())\n",
    "plt.title('complaints_clean')\n",
    "plt.show()\n",
    "plt.figure(figsize=(10,6))\n",
    "plt.title('complaint_lemmatized')\n",
    "plt.hist(df_clean['complaint_lemmatized'].str.len())\n",
    "plt.show()\n",
    "plt.figure(figsize=(10,6))\n",
    "plt.title('complaint_POS_removed')\n",
    "plt.hist(df_clean['complaint_POS_removed'].str.len())\n",
    "plt.show()"
   ]
  },
  {
   "cell_type": "markdown",
   "metadata": {
    "id": "T9jD_6SeJrF3"
   },
   "source": [
    "#### Find the top 40 words by frequency among all the articles after processing the text."
   ]
  },
  {
   "cell_type": "code",
   "execution_count": 174,
   "metadata": {},
   "outputs": [
    {
     "name": "stdout",
     "output_type": "stream",
     "text": [
      "Collecting wordcloud\n",
      "  Downloading wordcloud-1.8.2.2-cp39-cp39-win_amd64.whl (153 kB)\n",
      "Requirement already satisfied: matplotlib in d:\\anaconda3\\lib\\site-packages (from wordcloud) (3.4.3)\n",
      "Requirement already satisfied: numpy>=1.6.1 in d:\\anaconda3\\lib\\site-packages (from wordcloud) (1.20.3)\n",
      "Requirement already satisfied: pillow in d:\\anaconda3\\lib\\site-packages (from wordcloud) (8.4.0)\n",
      "Requirement already satisfied: python-dateutil>=2.7 in d:\\anaconda3\\lib\\site-packages (from matplotlib->wordcloud) (2.8.2)\n",
      "Requirement already satisfied: kiwisolver>=1.0.1 in d:\\anaconda3\\lib\\site-packages (from matplotlib->wordcloud) (1.3.1)\n",
      "Requirement already satisfied: cycler>=0.10 in d:\\anaconda3\\lib\\site-packages (from matplotlib->wordcloud) (0.10.0)\n",
      "Requirement already satisfied: pyparsing>=2.2.1 in d:\\anaconda3\\lib\\site-packages (from matplotlib->wordcloud) (3.0.4)\n",
      "Requirement already satisfied: six in d:\\anaconda3\\lib\\site-packages (from cycler>=0.10->matplotlib->wordcloud) (1.16.0)\n",
      "Installing collected packages: wordcloud\n",
      "Successfully installed wordcloud-1.8.2.2\n"
     ]
    }
   ],
   "source": [
    "!pip install wordcloud"
   ]
  },
  {
   "cell_type": "code",
   "execution_count": 314,
   "metadata": {},
   "outputs": [],
   "source": [
    "from wordcloud import WordCloud, STOPWORDS"
   ]
  },
  {
   "cell_type": "code",
   "execution_count": 315,
   "metadata": {},
   "outputs": [
    {
     "data": {
      "image/png": "[encoded data removed]",
      "text/plain": [
       "<Figure size 720x720 with 1 Axes>"
      ]
     },
     "metadata": {
      "needs_background": "light"
     },
     "output_type": "display_data"
    }
   ],
   "source": [
    "word_cloud = WordCloud(collocations = False, max_words = 40, random_state = 100).generate(\" \".join(df_clean[\"complaint_POS_removed\"]))\n",
    "plt.figure(figsize = (10, 10))\n",
    "plt.imshow(word_cloud)\n",
    "plt.axis(\"off\")\n",
    "plt.show()"
   ]
  },
  {
   "cell_type": "code",
   "execution_count": 316,
   "metadata": {
    "id": "OkSmc3UaJrF4"
   },
   "outputs": [],
   "source": [
    "#Removing -PRON- from the text corpus\n",
    "df_clean['Complaint_clean'] = df_clean['complaint_POS_removed'].str.replace('-PRON-', '')"
   ]
  },
  {
   "cell_type": "markdown",
   "metadata": {
    "id": "5DfCSbbmJrF4"
   },
   "source": [
    "#### Find the top unigrams,bigrams and trigrams by frequency among all the complaints after processing the text."
   ]
  },
  {
   "cell_type": "code",
   "execution_count": 317,
   "metadata": {
    "id": "5mbk5DS5JrF4"
   },
   "outputs": [],
   "source": [
    "#Write your code here to find the top 30 unigram frequency among the complaints in the cleaned datafram(df_clean). \n",
    "def nGram(data, n):\n",
    "    vec = CountVectorizer(ngram_range=(n,n)).fit(data)\n",
    "    bow = vec.transform(data)\n",
    "    sum_words = bow.sum(axis=0)\n",
    "    words_freq = [(word, sum_words[0,idx]) for word, idx in vec.vocabulary_.items()]\n",
    "    return sorted(words_freq, key = lambda x: x[1], reverse=True)"
   ]
  },
  {
   "cell_type": "code",
   "execution_count": 318,
   "metadata": {
    "id": "YX7fedm1JrF8"
   },
   "outputs": [
    {
     "data": {
      "text/plain": [
       "[('chase', 63592),\n",
       " ('account', 47227),\n",
       " ('credit', 32703),\n",
       " ('card', 30407),\n",
       " ('payment', 21290),\n",
       " ('bank', 18587),\n",
       " ('time', 16267),\n",
       " ('day', 13237),\n",
       " ('charge', 12253),\n",
       " ('money', 11992),\n",
       " ('loan', 10982),\n",
       " ('check', 10420),\n",
       " ('letter', 9671),\n",
       " ('information', 9663),\n",
       " ('fee', 8956),\n",
       " ('number', 8636),\n",
       " ('transaction', 8635),\n",
       " ('month', 8587),\n",
       " ('year', 8420),\n",
       " ('amount', 8303),\n",
       " ('customer', 8181),\n",
       " ('mortgage', 8117),\n",
       " ('balance', 7778),\n",
       " ('company', 7620),\n",
       " ('phone', 7578),\n",
       " ('service', 7460),\n",
       " ('fund', 7046),\n",
       " ('report', 7012),\n",
       " ('fraud', 6725),\n",
       " ('claim', 6670)]"
      ]
     },
     "execution_count": 318,
     "metadata": {},
     "output_type": "execute_result"
    }
   ],
   "source": [
    "#Print the top 10 words in the unigram frequency\n",
    "unigrams = nGram(df_clean[\"complaint_POS_removed\"], 1)\n",
    "unigrams[:30]"
   ]
  },
  {
   "cell_type": "code",
   "execution_count": 319,
   "metadata": {
    "id": "aV7kD7w8JrF8"
   },
   "outputs": [
    {
     "data": {
      "text/plain": [
       "[('credit card', 12885),\n",
       " ('credit report', 3874),\n",
       " ('chase credit', 3769),\n",
       " ('account chase', 3698),\n",
       " ('checking account', 3323),\n",
       " ('chase account', 3129),\n",
       " ('chase bank', 3075),\n",
       " ('customer service', 2996),\n",
       " ('account account', 2692),\n",
       " ('bank account', 2305),\n",
       " ('card chase', 2036),\n",
       " ('debit card', 2022),\n",
       " ('chase card', 1963),\n",
       " ('credit score', 1723),\n",
       " ('card account', 1698),\n",
       " ('phone call', 1622),\n",
       " ('payment payment', 1607),\n",
       " ('account credit', 1578),\n",
       " ('chase chase', 1440),\n",
       " ('letter chase', 1428),\n",
       " ('money account', 1426),\n",
       " ('chase customer', 1374),\n",
       " ('interest rate', 1304),\n",
       " ('payment chase', 1272),\n",
       " ('business day', 1263),\n",
       " ('phone number', 1254),\n",
       " ('card card', 1224),\n",
       " ('account number', 1223),\n",
       " ('card company', 1152),\n",
       " ('card credit', 1151)]"
      ]
     },
     "execution_count": 319,
     "metadata": {},
     "output_type": "execute_result"
    }
   ],
   "source": [
    "#Write your code here to find the top 30 bigram frequency among the complaints in the cleaned datafram(df_clean). \n",
    "bigrams = nGram(df_clean[\"complaint_POS_removed\"], 2)\n",
    "bigrams[:30]"
   ]
  },
  {
   "cell_type": "code",
   "execution_count": 320,
   "metadata": {
    "id": "Xkh7vtbtJrF-"
   },
   "outputs": [
    {
     "data": {
      "text/plain": [
       "[('chase credit card', 2604),\n",
       " ('credit card account', 1048),\n",
       " ('credit card company', 1004),\n",
       " ('credit card chase', 914),\n",
       " ('chase customer service', 592),\n",
       " ('credit card credit', 563),\n",
       " ('inquiry credit report', 557),\n",
       " ('chase checking account', 477),\n",
       " ('card credit card', 448),\n",
       " ('account credit card', 437),\n",
       " ('charge credit card', 375),\n",
       " ('credit report credit', 373),\n",
       " ('checking account chase', 371),\n",
       " ('chase bank account', 356),\n",
       " ('customer service representative', 352),\n",
       " ('account chase account', 352),\n",
       " ('credit reporting agency', 349),\n",
       " ('account credit report', 336),\n",
       " ('credit card payment', 330),\n",
       " ('credit reporting act', 317),\n",
       " ('credit report chase', 292),\n",
       " ('credit card card', 284),\n",
       " ('chase auto finance', 278),\n",
       " ('chase card service', 276),\n",
       " ('credit card balance', 276),\n",
       " ('phone call chase', 255),\n",
       " ('victim identity theft', 254),\n",
       " ('credit card charge', 249),\n",
       " ('payment credit card', 245),\n",
       " ('chase account chase', 244)]"
      ]
     },
     "execution_count": 320,
     "metadata": {},
     "output_type": "execute_result"
    }
   ],
   "source": [
    "#Write your code here to find the top 30 trigram frequency among the complaints in the cleaned datafram(df_clean). \n",
    "trigrams = nGram(df_clean[\"complaint_POS_removed\"], 3)\n",
    "trigrams[:30]"
   ]
  },
  {
   "cell_type": "code",
   "execution_count": 321,
   "metadata": {},
   "outputs": [
    {
     "name": "stdout",
     "output_type": "stream",
     "text": [
      "------------Top 10 unigrams---------------\n",
      " chase, account, credit, card, payment, bank, time, day, charge, money\n",
      "\n",
      "---------------Top 10 bigrams---------------\n",
      " credit card, credit report, chase credit, account chase, checking account, chase account, chase bank, customer service, account account, bank account\n",
      "\n",
      "-------------Top 10 trigrams-----------------\n",
      " chase credit card, credit card account, credit card company, credit card chase, chase customer service, credit card credit, inquiry credit report, chase checking account, card credit card, account credit card\n"
     ]
    }
   ],
   "source": [
    "# Top 10 Unigram, Bigram and Trigram\n",
    "top10unigrams = [ unigrams[i][0] for i in range(10)]\n",
    "print('------------Top 10 unigrams---------------\\n',\", \".join(top10unigrams))\n",
    "top10bigrams = [ bigrams[i][0] for i in range(10)]\n",
    "print('\\n---------------Top 10 bigrams---------------\\n',\", \".join(top10bigrams))\n",
    "top10trigrams = [ trigrams[i][0] for i in range(10)]\n",
    "print('\\n-------------Top 10 trigrams-----------------\\n',\", \".join(top10trigrams))"
   ]
  },
  {
   "cell_type": "markdown",
   "metadata": {
    "id": "k-I0k0QtJrGA"
   },
   "source": [
    "## Feature Extraction\n",
    "Convert the raw texts to a matrix of TF-IDF features\n",
    "\n",
    "**max_df** is used for removing terms that appear too frequently, also known as \"corpus-specific stop words\"\n",
    "max_df = 0.95 means \"ignore terms that appear in more than 95% of the complaints\"\n",
    "\n",
    "**min_df** is used for removing terms that appear too infrequently\n",
    "min_df = 2 means \"ignore terms that appear in less than 2 complaints\""
   ]
  },
  {
   "cell_type": "code",
   "execution_count": 322,
   "metadata": {
    "id": "Y8fGwaCPJrGA"
   },
   "outputs": [],
   "source": [
    "#Write your code here to initialise the TfidfVectorizer \n",
    "\n",
    "tfidf = TfidfVectorizer(stop_words='english', min_df=2, max_df=0.95)"
   ]
  },
  {
   "cell_type": "markdown",
   "metadata": {
    "id": "yYzD85nTJrGA"
   },
   "source": [
    "#### Create a document term matrix using fit_transform\n",
    "\n",
    "The contents of a document term matrix are tuples of (complaint_id,token_id) tf-idf score:\n",
    "The tuples that are not there have a tf-idf score of 0"
   ]
  },
  {
   "cell_type": "code",
   "execution_count": 323,
   "metadata": {
    "id": "ffzdDpp_JrGB"
   },
   "outputs": [],
   "source": [
    "#Write your code here to create the Document Term Matrix by transforming the complaints column present in df_clean.\n",
    "dtm = tfidf.fit_transform(df_clean.complaints_clean)"
   ]
  },
  {
   "cell_type": "markdown",
   "metadata": {
    "id": "7Q9lwvNEJrGB"
   },
   "source": [
    "## Topic Modelling using NMF\n",
    "\n",
    "Non-Negative Matrix Factorization (NMF) is an unsupervised technique so there are no labeling of topics that the model will be trained on. The way it works is that, NMF decomposes (or factorizes) high-dimensional vectors into a lower-dimensional representation. These lower-dimensional vectors are non-negative which also means their coefficients are non-negative.\n",
    "\n",
    "In this task you have to perform the following:\n",
    "\n",
    "* Find the best number of clusters \n",
    "* Apply the best number to create word clusters\n",
    "* Inspect & validate the correction of each cluster wrt the complaints \n",
    "* Correct the labels if needed \n",
    "* Map the clusters to topics/cluster names"
   ]
  },
  {
   "cell_type": "code",
   "execution_count": 324,
   "metadata": {
    "id": "amLT4omWJrGB"
   },
   "outputs": [],
   "source": [
    "from sklearn.decomposition import NMF"
   ]
  },
  {
   "cell_type": "markdown",
   "metadata": {
    "id": "0wYR1xUTJrGD"
   },
   "source": [
    "## Manual Topic Modeling\n",
    "You need to do take the trial & error approach to find the best num of topics for your NMF model.\n",
    "\n",
    "The only parameter that is required is the number of components i.e. the number of topics we want. This is the most crucial step in the whole topic modeling process and will greatly affect how good your final topics are."
   ]
  },
  {
   "cell_type": "code",
   "execution_count": 325,
   "metadata": {
    "id": "sgd2A6bhJrGD"
   },
   "outputs": [],
   "source": [
    "#Load your nmf_model with the n_components i.e 5\n",
    "num_topics = 5 #write the value you want to test out\n",
    "\n",
    "#keep the random_state =40\n",
    "nmf_model = NMF(n_components=num_topics, random_state=40) #write your code here"
   ]
  },
  {
   "cell_type": "code",
   "execution_count": 326,
   "metadata": {
    "id": "VPMDYbt_JrGE"
   },
   "outputs": [
    {
     "data": {
      "text/plain": [
       "15351"
      ]
     },
     "execution_count": 326,
     "metadata": {},
     "output_type": "execute_result"
    }
   ],
   "source": [
    "transformed = nmf_model.fit_transform(dtm)\n",
    "len(tfidf.get_feature_names())"
   ]
  },
  {
   "cell_type": "code",
   "execution_count": 327,
   "metadata": {
    "id": "16kRfat5JrGE"
   },
   "outputs": [
    {
     "data": {
      "text/html": [
       "<div>\n",
       "<style scoped>\n",
       "    .dataframe tbody tr th:only-of-type {\n",
       "        vertical-align: middle;\n",
       "    }\n",
       "\n",
       "    .dataframe tbody tr th {\n",
       "        vertical-align: top;\n",
       "    }\n",
       "\n",
       "    .dataframe thead th {\n",
       "        text-align: right;\n",
       "    }\n",
       "</style>\n",
       "<table border=\"1\" class=\"dataframe\">\n",
       "  <thead>\n",
       "    <tr style=\"text-align: right;\">\n",
       "      <th></th>\n",
       "      <th>Word 1</th>\n",
       "      <th>Word 2</th>\n",
       "      <th>Word 3</th>\n",
       "      <th>Word 4</th>\n",
       "      <th>Word 5</th>\n",
       "      <th>Word 6</th>\n",
       "      <th>Word 7</th>\n",
       "      <th>Word 8</th>\n",
       "      <th>Word 9</th>\n",
       "      <th>Word 10</th>\n",
       "      <th>Word 11</th>\n",
       "      <th>Word 12</th>\n",
       "      <th>Word 13</th>\n",
       "      <th>Word 14</th>\n",
       "      <th>Word 15</th>\n",
       "    </tr>\n",
       "  </thead>\n",
       "  <tbody>\n",
       "    <tr>\n",
       "      <th>Topic 0</th>\n",
       "      <td>card</td>\n",
       "      <td>chase</td>\n",
       "      <td>charges</td>\n",
       "      <td>charge</td>\n",
       "      <td>dispute</td>\n",
       "      <td>fraud</td>\n",
       "      <td>called</td>\n",
       "      <td>received</td>\n",
       "      <td>did</td>\n",
       "      <td>told</td>\n",
       "      <td>merchant</td>\n",
       "      <td>claim</td>\n",
       "      <td>transaction</td>\n",
       "      <td>said</td>\n",
       "      <td>refund</td>\n",
       "    </tr>\n",
       "    <tr>\n",
       "      <th>Topic 1</th>\n",
       "      <td>credit</td>\n",
       "      <td>card</td>\n",
       "      <td>report</td>\n",
       "      <td>inquiry</td>\n",
       "      <td>chase</td>\n",
       "      <td>inquiries</td>\n",
       "      <td>hard</td>\n",
       "      <td>cards</td>\n",
       "      <td>reporting</td>\n",
       "      <td>score</td>\n",
       "      <td>accounts</td>\n",
       "      <td>account</td>\n",
       "      <td>closed</td>\n",
       "      <td>removed</td>\n",
       "      <td>debt</td>\n",
       "    </tr>\n",
       "    <tr>\n",
       "      <th>Topic 2</th>\n",
       "      <td>loan</td>\n",
       "      <td>mortgage</td>\n",
       "      <td>chase</td>\n",
       "      <td>home</td>\n",
       "      <td>modification</td>\n",
       "      <td>property</td>\n",
       "      <td>foreclosure</td>\n",
       "      <td>payments</td>\n",
       "      <td>house</td>\n",
       "      <td>years</td>\n",
       "      <td>bank</td>\n",
       "      <td>sale</td>\n",
       "      <td>morgan</td>\n",
       "      <td>rate</td>\n",
       "      <td>jp</td>\n",
       "    </tr>\n",
       "    <tr>\n",
       "      <th>Topic 3</th>\n",
       "      <td>account</td>\n",
       "      <td>bank</td>\n",
       "      <td>check</td>\n",
       "      <td>chase</td>\n",
       "      <td>money</td>\n",
       "      <td>funds</td>\n",
       "      <td>checking</td>\n",
       "      <td>closed</td>\n",
       "      <td>deposit</td>\n",
       "      <td>branch</td>\n",
       "      <td>told</td>\n",
       "      <td>accounts</td>\n",
       "      <td>deposited</td>\n",
       "      <td>said</td>\n",
       "      <td>business</td>\n",
       "    </tr>\n",
       "    <tr>\n",
       "      <th>Topic 4</th>\n",
       "      <td>payment</td>\n",
       "      <td>late</td>\n",
       "      <td>payments</td>\n",
       "      <td>balance</td>\n",
       "      <td>paid</td>\n",
       "      <td>pay</td>\n",
       "      <td>month</td>\n",
       "      <td>fees</td>\n",
       "      <td>fee</td>\n",
       "      <td>statement</td>\n",
       "      <td>auto</td>\n",
       "      <td>account</td>\n",
       "      <td>chase</td>\n",
       "      <td>monthly</td>\n",
       "      <td>charged</td>\n",
       "    </tr>\n",
       "  </tbody>\n",
       "</table>\n",
       "</div>"
      ],
      "text/plain": [
       "          Word 1    Word 2    Word 3   Word 4        Word 5     Word 6  \\\n",
       "Topic 0     card     chase   charges   charge       dispute      fraud   \n",
       "Topic 1   credit      card    report  inquiry         chase  inquiries   \n",
       "Topic 2     loan  mortgage     chase     home  modification   property   \n",
       "Topic 3  account      bank     check    chase         money      funds   \n",
       "Topic 4  payment      late  payments  balance          paid        pay   \n",
       "\n",
       "              Word 7    Word 8     Word 9    Word 10   Word 11   Word 12  \\\n",
       "Topic 0       called  received        did       told  merchant     claim   \n",
       "Topic 1         hard     cards  reporting      score  accounts   account   \n",
       "Topic 2  foreclosure  payments      house      years      bank      sale   \n",
       "Topic 3     checking    closed    deposit     branch      told  accounts   \n",
       "Topic 4        month      fees        fee  statement      auto   account   \n",
       "\n",
       "             Word 13  Word 14   Word 15  \n",
       "Topic 0  transaction     said    refund  \n",
       "Topic 1       closed  removed      debt  \n",
       "Topic 2       morgan     rate        jp  \n",
       "Topic 3    deposited     said  business  \n",
       "Topic 4        chase  monthly   charged  "
      ]
     },
     "execution_count": 327,
     "metadata": {},
     "output_type": "execute_result"
    }
   ],
   "source": [
    "#Print the Top15 words for each of the topics\n",
    "comps = nmf_model.components_\n",
    "words = np.array(tfidf.get_feature_names())\n",
    "topic_top15_words = pd.DataFrame(np.zeros((num_topics, 15)), index=[f'Topic {i}' for i in range(num_topics)],\n",
    "                columns=[f'Word {i + 1}' for i in range(15)]).astype(str)\n",
    "\n",
    "for i in range(num_topics):\n",
    "    ix = comps[i].argsort()[::-1][:15]\n",
    "    topic_top15_words.iloc[i] = words[ix]\n",
    "topic_top15_words"
   ]
  },
  {
   "cell_type": "code",
   "execution_count": 337,
   "metadata": {
    "id": "0OIT7LmFJrGF"
   },
   "outputs": [],
   "source": [
    "#Create the best topic for each complaint in terms of integer value 0,1,2,3 & 4\n",
    "doc_topic = pd.DataFrame(transformed, columns = [f'Topic {i}' for i in range(1, num_topics+1)])\n",
    "doc_topic[\"topic\"] = doc_topic.apply(lambda x : np.argmax(x), axis = 1)\n",
    "df_clean['Topic'] = doc_topic[\"topic\"] \n",
    "df_clean['Topic_Num'] = doc_topic[\"topic\"] "
   ]
  },
  {
   "cell_type": "code",
   "execution_count": 338,
   "metadata": {
    "id": "fLh_Gf3nJrGF"
   },
   "outputs": [
    {
     "data": {
      "text/html": [
       "<div>\n",
       "<style scoped>\n",
       "    .dataframe tbody tr th:only-of-type {\n",
       "        vertical-align: middle;\n",
       "    }\n",
       "\n",
       "    .dataframe tbody tr th {\n",
       "        vertical-align: top;\n",
       "    }\n",
       "\n",
       "    .dataframe thead th {\n",
       "        text-align: right;\n",
       "    }\n",
       "</style>\n",
       "<table border=\"1\" class=\"dataframe\">\n",
       "  <thead>\n",
       "    <tr style=\"text-align: right;\">\n",
       "      <th></th>\n",
       "      <th>complaints_clean</th>\n",
       "      <th>complaint_lemmatized</th>\n",
       "      <th>complaint_POS_removed</th>\n",
       "      <th>Complaint_clean</th>\n",
       "      <th>Topic</th>\n",
       "      <th>topic</th>\n",
       "      <th>Topic_Num</th>\n",
       "    </tr>\n",
       "  </thead>\n",
       "  <tbody>\n",
       "    <tr>\n",
       "      <th>0</th>\n",
       "      <td>good morning my name is and i appreciate it if...</td>\n",
       "      <td>good morning my name be and I appreciate it if...</td>\n",
       "      <td>morning name stop debt verification statement ...</td>\n",
       "      <td>morning name stop debt verification statement ...</td>\n",
       "      <td>2</td>\n",
       "      <td>2</td>\n",
       "      <td>2</td>\n",
       "    </tr>\n",
       "    <tr>\n",
       "      <th>1</th>\n",
       "      <td>i upgraded my card in and was told by the agen...</td>\n",
       "      <td>I upgrade my card in and be tell by the agent ...</td>\n",
       "      <td>card agent anniversary date agent information ...</td>\n",
       "      <td>card agent anniversary date agent information ...</td>\n",
       "      <td>0</td>\n",
       "      <td>0</td>\n",
       "      <td>0</td>\n",
       "    </tr>\n",
       "    <tr>\n",
       "      <th>2</th>\n",
       "      <td>chase card was reported on . however fraudulen...</td>\n",
       "      <td>chase card be report on . however fraudulent a...</td>\n",
       "      <td>chase card application identity consent servic...</td>\n",
       "      <td>chase card application identity consent servic...</td>\n",
       "      <td>1</td>\n",
       "      <td>1</td>\n",
       "      <td>1</td>\n",
       "    </tr>\n",
       "    <tr>\n",
       "      <th>3</th>\n",
       "      <td>on while trying to book a ticket i came across...</td>\n",
       "      <td>on while try to book a ticket I come across an...</td>\n",
       "      <td>ticket offer ticket reward card information of...</td>\n",
       "      <td>ticket offer ticket reward card information of...</td>\n",
       "      <td>1</td>\n",
       "      <td>1</td>\n",
       "      <td>1</td>\n",
       "    </tr>\n",
       "    <tr>\n",
       "      <th>4</th>\n",
       "      <td>my grand son give me check for i deposit it in...</td>\n",
       "      <td>my grand son give I check for I deposit it int...</td>\n",
       "      <td>son check chase account fund chase bank accoun...</td>\n",
       "      <td>son check chase account fund chase bank accoun...</td>\n",
       "      <td>3</td>\n",
       "      <td>3</td>\n",
       "      <td>3</td>\n",
       "    </tr>\n",
       "  </tbody>\n",
       "</table>\n",
       "</div>"
      ],
      "text/plain": [
       "                                    complaints_clean  \\\n",
       "0  good morning my name is and i appreciate it if...   \n",
       "1  i upgraded my card in and was told by the agen...   \n",
       "2  chase card was reported on . however fraudulen...   \n",
       "3  on while trying to book a ticket i came across...   \n",
       "4  my grand son give me check for i deposit it in...   \n",
       "\n",
       "                                complaint_lemmatized  \\\n",
       "0  good morning my name be and I appreciate it if...   \n",
       "1  I upgrade my card in and be tell by the agent ...   \n",
       "2  chase card be report on . however fraudulent a...   \n",
       "3  on while try to book a ticket I come across an...   \n",
       "4  my grand son give I check for I deposit it int...   \n",
       "\n",
       "                               complaint_POS_removed  \\\n",
       "0  morning name stop debt verification statement ...   \n",
       "1  card agent anniversary date agent information ...   \n",
       "2  chase card application identity consent servic...   \n",
       "3  ticket offer ticket reward card information of...   \n",
       "4  son check chase account fund chase bank accoun...   \n",
       "\n",
       "                                     Complaint_clean  Topic  topic  Topic_Num  \n",
       "0  morning name stop debt verification statement ...      2      2          2  \n",
       "1  card agent anniversary date agent information ...      0      0          0  \n",
       "2  chase card application identity consent servic...      1      1          1  \n",
       "3  ticket offer ticket reward card information of...      1      1          1  \n",
       "4  son check chase account fund chase bank accoun...      3      3          3  "
      ]
     },
     "execution_count": 338,
     "metadata": {},
     "output_type": "execute_result"
    }
   ],
   "source": [
    "df_clean.head()"
   ]
  },
  {
   "cell_type": "code",
   "execution_count": 339,
   "metadata": {
    "id": "aQKpufSPJrGG"
   },
   "outputs": [
    {
     "data": {
      "text/html": [
       "<div>\n",
       "<style scoped>\n",
       "    .dataframe tbody tr th:only-of-type {\n",
       "        vertical-align: middle;\n",
       "    }\n",
       "\n",
       "    .dataframe tbody tr th {\n",
       "        vertical-align: top;\n",
       "    }\n",
       "\n",
       "    .dataframe thead th {\n",
       "        text-align: right;\n",
       "    }\n",
       "</style>\n",
       "<table border=\"1\" class=\"dataframe\">\n",
       "  <thead>\n",
       "    <tr style=\"text-align: right;\">\n",
       "      <th></th>\n",
       "      <th>complaints_clean</th>\n",
       "      <th>complaint_lemmatized</th>\n",
       "      <th>complaint_POS_removed</th>\n",
       "      <th>Complaint_clean</th>\n",
       "      <th>Topic</th>\n",
       "      <th>topic</th>\n",
       "      <th>Topic_Num</th>\n",
       "    </tr>\n",
       "  </thead>\n",
       "  <tbody>\n",
       "    <tr>\n",
       "      <th>1</th>\n",
       "      <td>i upgraded my card in and was told by the agen...</td>\n",
       "      <td>I upgrade my card in and be tell by the agent ...</td>\n",
       "      <td>card agent anniversary date agent information ...</td>\n",
       "      <td>card agent anniversary date agent information ...</td>\n",
       "      <td>0</td>\n",
       "      <td>0</td>\n",
       "      <td>0</td>\n",
       "    </tr>\n",
       "    <tr>\n",
       "      <th>8</th>\n",
       "      <td>on i made a payment to an online retailer usin...</td>\n",
       "      <td>on I make a payment to an online retailer use ...</td>\n",
       "      <td>payment retailer chase pay chase website scam ...</td>\n",
       "      <td>payment retailer chase pay chase website scam ...</td>\n",
       "      <td>0</td>\n",
       "      <td>0</td>\n",
       "      <td>0</td>\n",
       "    </tr>\n",
       "    <tr>\n",
       "      <th>18</th>\n",
       "      <td>chase sent me an email today with the innocuou...</td>\n",
       "      <td>chase send I an email today with the innocuous...</td>\n",
       "      <td>chase email today title information change cha...</td>\n",
       "      <td>chase email today title information change cha...</td>\n",
       "      <td>0</td>\n",
       "      <td>0</td>\n",
       "      <td>0</td>\n",
       "    </tr>\n",
       "    <tr>\n",
       "      <th>16</th>\n",
       "      <td>a sofa love seat table and chairs and was nev...</td>\n",
       "      <td>a sofa love seat table and chair and be neve...</td>\n",
       "      <td>sofa love seat table chair debit card claim fu...</td>\n",
       "      <td>sofa love seat table chair debit card claim fu...</td>\n",
       "      <td>0</td>\n",
       "      <td>0</td>\n",
       "      <td>0</td>\n",
       "    </tr>\n",
       "    <tr>\n",
       "      <th>14</th>\n",
       "      <td>my chase amazon card was declined for a cateri...</td>\n",
       "      <td>my chase amazon card be decline for a catering...</td>\n",
       "      <td>chase amazon card catering order brother funer...</td>\n",
       "      <td>chase amazon card catering order brother funer...</td>\n",
       "      <td>0</td>\n",
       "      <td>0</td>\n",
       "      <td>0</td>\n",
       "    </tr>\n",
       "    <tr>\n",
       "      <th>2</th>\n",
       "      <td>chase card was reported on . however fraudulen...</td>\n",
       "      <td>chase card be report on . however fraudulent a...</td>\n",
       "      <td>chase card application identity consent servic...</td>\n",
       "      <td>chase card application identity consent servic...</td>\n",
       "      <td>1</td>\n",
       "      <td>1</td>\n",
       "      <td>1</td>\n",
       "    </tr>\n",
       "    <tr>\n",
       "      <th>3</th>\n",
       "      <td>on while trying to book a ticket i came across...</td>\n",
       "      <td>on while try to book a ticket I come across an...</td>\n",
       "      <td>ticket offer ticket reward card information of...</td>\n",
       "      <td>ticket offer ticket reward card information of...</td>\n",
       "      <td>1</td>\n",
       "      <td>1</td>\n",
       "      <td>1</td>\n",
       "    </tr>\n",
       "    <tr>\n",
       "      <th>5</th>\n",
       "      <td>can you please remove inquiry</td>\n",
       "      <td>can you please remove inquiry</td>\n",
       "      <td>inquiry</td>\n",
       "      <td>inquiry</td>\n",
       "      <td>1</td>\n",
       "      <td>1</td>\n",
       "      <td>1</td>\n",
       "    </tr>\n",
       "    <tr>\n",
       "      <th>9</th>\n",
       "      <td>i have a chase credit card which is incorrectl...</td>\n",
       "      <td>I have a chase credit card which be incorrectl...</td>\n",
       "      <td>chase credit card datum credit report company ...</td>\n",
       "      <td>chase credit card datum credit report company ...</td>\n",
       "      <td>1</td>\n",
       "      <td>1</td>\n",
       "      <td>1</td>\n",
       "    </tr>\n",
       "    <tr>\n",
       "      <th>11</th>\n",
       "      <td>i have reached out to several times in attempt...</td>\n",
       "      <td>I have reach out to several time in attempt to...</td>\n",
       "      <td>time attempt inquiry creditor inquiry report a...</td>\n",
       "      <td>time attempt inquiry creditor inquiry report a...</td>\n",
       "      <td>1</td>\n",
       "      <td>1</td>\n",
       "      <td>1</td>\n",
       "    </tr>\n",
       "    <tr>\n",
       "      <th>0</th>\n",
       "      <td>good morning my name is and i appreciate it if...</td>\n",
       "      <td>good morning my name be and I appreciate it if...</td>\n",
       "      <td>morning name stop debt verification statement ...</td>\n",
       "      <td>morning name stop debt verification statement ...</td>\n",
       "      <td>2</td>\n",
       "      <td>2</td>\n",
       "      <td>2</td>\n",
       "    </tr>\n",
       "    <tr>\n",
       "      <th>32</th>\n",
       "      <td>i bought a new on from in . i paid the loan in...</td>\n",
       "      <td>I buy a new on from in . I pay the loan in but...</td>\n",
       "      <td>loan chase title chase time resolution time st...</td>\n",
       "      <td>loan chase title chase time resolution time st...</td>\n",
       "      <td>2</td>\n",
       "      <td>2</td>\n",
       "      <td>2</td>\n",
       "    </tr>\n",
       "    <tr>\n",
       "      <th>30</th>\n",
       "      <td>i have wired through one of chase branches in ...</td>\n",
       "      <td>I have wire through one of chase branch in the...</td>\n",
       "      <td>chase branch reinstatement amount order forecl...</td>\n",
       "      <td>chase branch reinstatement amount order forecl...</td>\n",
       "      <td>2</td>\n",
       "      <td>2</td>\n",
       "      <td>2</td>\n",
       "    </tr>\n",
       "    <tr>\n",
       "      <th>23</th>\n",
       "      <td>i have been trying to do a loan modification w...</td>\n",
       "      <td>I have be try to do a loan modification with c...</td>\n",
       "      <td>loan modification chase runaround payment</td>\n",
       "      <td>loan modification chase runaround payment</td>\n",
       "      <td>2</td>\n",
       "      <td>2</td>\n",
       "      <td>2</td>\n",
       "    </tr>\n",
       "    <tr>\n",
       "      <th>41</th>\n",
       "      <td>my name is . i have missed a payment in and wa...</td>\n",
       "      <td>my name be . I have miss a payment in and be d...</td>\n",
       "      <td>name payment day time loan modification loss m...</td>\n",
       "      <td>name payment day time loan modification loss m...</td>\n",
       "      <td>2</td>\n",
       "      <td>2</td>\n",
       "      <td>2</td>\n",
       "    </tr>\n",
       "    <tr>\n",
       "      <th>12</th>\n",
       "      <td>i opened an account with chase bank on and use...</td>\n",
       "      <td>I open an account with chase bank on and use a...</td>\n",
       "      <td>account code bonus term account deposit bonus ...</td>\n",
       "      <td>account code bonus term account deposit bonus ...</td>\n",
       "      <td>3</td>\n",
       "      <td>3</td>\n",
       "      <td>3</td>\n",
       "    </tr>\n",
       "    <tr>\n",
       "      <th>10</th>\n",
       "      <td>mishandling of this account by chase auto and .</td>\n",
       "      <td>mishandle of this account by chase auto and .</td>\n",
       "      <td>account chase auto</td>\n",
       "      <td>account chase auto</td>\n",
       "      <td>3</td>\n",
       "      <td>3</td>\n",
       "      <td>3</td>\n",
       "    </tr>\n",
       "    <tr>\n",
       "      <th>6</th>\n",
       "      <td>with out notice j.p. morgan chase restricted m...</td>\n",
       "      <td>with out notice j.p . morgan chase restrict my...</td>\n",
       "      <td>account debit card branch customer service rep...</td>\n",
       "      <td>account debit card branch customer service rep...</td>\n",
       "      <td>3</td>\n",
       "      <td>3</td>\n",
       "      <td>3</td>\n",
       "    </tr>\n",
       "    <tr>\n",
       "      <th>4</th>\n",
       "      <td>my grand son give me check for i deposit it in...</td>\n",
       "      <td>my grand son give I check for I deposit it int...</td>\n",
       "      <td>son check chase account fund chase bank accoun...</td>\n",
       "      <td>son check chase account fund chase bank accoun...</td>\n",
       "      <td>3</td>\n",
       "      <td>3</td>\n",
       "      <td>3</td>\n",
       "    </tr>\n",
       "    <tr>\n",
       "      <th>15</th>\n",
       "      <td>i opened the saving account for the bonus. i w...</td>\n",
       "      <td>I open the saving account for the bonus . I be...</td>\n",
       "      <td>saving account bonus bonus auto transfer savin...</td>\n",
       "      <td>saving account bonus bonus auto transfer savin...</td>\n",
       "      <td>3</td>\n",
       "      <td>3</td>\n",
       "      <td>3</td>\n",
       "    </tr>\n",
       "    <tr>\n",
       "      <th>13</th>\n",
       "      <td>to whom it may concern chase bank charged wron...</td>\n",
       "      <td>to whom it may concern chase bank charge wrong...</td>\n",
       "      <td>concern overdraft fee alert balance fee balanc...</td>\n",
       "      <td>concern overdraft fee alert balance fee balanc...</td>\n",
       "      <td>4</td>\n",
       "      <td>4</td>\n",
       "      <td>4</td>\n",
       "    </tr>\n",
       "    <tr>\n",
       "      <th>7</th>\n",
       "      <td>during the summer months i experience a declin...</td>\n",
       "      <td>during the summer month I experience a decline...</td>\n",
       "      <td>summer month decline income employment month p...</td>\n",
       "      <td>summer month decline income employment month p...</td>\n",
       "      <td>4</td>\n",
       "      <td>4</td>\n",
       "      <td>4</td>\n",
       "    </tr>\n",
       "    <tr>\n",
       "      <th>24</th>\n",
       "      <td>i made a purchase of on . i made payments of o...</td>\n",
       "      <td>I make a purchase of on . I make payment of on...</td>\n",
       "      <td>purchase payment payment closing date statemen...</td>\n",
       "      <td>purchase payment payment closing date statemen...</td>\n",
       "      <td>4</td>\n",
       "      <td>4</td>\n",
       "      <td>4</td>\n",
       "    </tr>\n",
       "    <tr>\n",
       "      <th>33</th>\n",
       "      <td>i recently called to ask chase bank why they r...</td>\n",
       "      <td>I recently call to ask chase bank why they rep...</td>\n",
       "      <td>chase bank credit bureau day payment info bill...</td>\n",
       "      <td>chase bank credit bureau day payment info bill...</td>\n",
       "      <td>4</td>\n",
       "      <td>4</td>\n",
       "      <td>4</td>\n",
       "    </tr>\n",
       "    <tr>\n",
       "      <th>46</th>\n",
       "      <td>multiple times with the latest being chase has...</td>\n",
       "      <td>multiple time with the late being chase have m...</td>\n",
       "      <td>time being chase order credit debit account fe...</td>\n",
       "      <td>time being chase order credit debit account fe...</td>\n",
       "      <td>4</td>\n",
       "      <td>4</td>\n",
       "      <td>4</td>\n",
       "    </tr>\n",
       "  </tbody>\n",
       "</table>\n",
       "</div>"
      ],
      "text/plain": [
       "                                     complaints_clean  \\\n",
       "1   i upgraded my card in and was told by the agen...   \n",
       "8   on i made a payment to an online retailer usin...   \n",
       "18  chase sent me an email today with the innocuou...   \n",
       "16   a sofa love seat table and chairs and was nev...   \n",
       "14  my chase amazon card was declined for a cateri...   \n",
       "2   chase card was reported on . however fraudulen...   \n",
       "3   on while trying to book a ticket i came across...   \n",
       "5                       can you please remove inquiry   \n",
       "9   i have a chase credit card which is incorrectl...   \n",
       "11  i have reached out to several times in attempt...   \n",
       "0   good morning my name is and i appreciate it if...   \n",
       "32  i bought a new on from in . i paid the loan in...   \n",
       "30  i have wired through one of chase branches in ...   \n",
       "23  i have been trying to do a loan modification w...   \n",
       "41  my name is . i have missed a payment in and wa...   \n",
       "12  i opened an account with chase bank on and use...   \n",
       "10    mishandling of this account by chase auto and .   \n",
       "6   with out notice j.p. morgan chase restricted m...   \n",
       "4   my grand son give me check for i deposit it in...   \n",
       "15  i opened the saving account for the bonus. i w...   \n",
       "13  to whom it may concern chase bank charged wron...   \n",
       "7   during the summer months i experience a declin...   \n",
       "24  i made a purchase of on . i made payments of o...   \n",
       "33  i recently called to ask chase bank why they r...   \n",
       "46  multiple times with the latest being chase has...   \n",
       "\n",
       "                                 complaint_lemmatized  \\\n",
       "1   I upgrade my card in and be tell by the agent ...   \n",
       "8   on I make a payment to an online retailer use ...   \n",
       "18  chase send I an email today with the innocuous...   \n",
       "16    a sofa love seat table and chair and be neve...   \n",
       "14  my chase amazon card be decline for a catering...   \n",
       "2   chase card be report on . however fraudulent a...   \n",
       "3   on while try to book a ticket I come across an...   \n",
       "5                       can you please remove inquiry   \n",
       "9   I have a chase credit card which be incorrectl...   \n",
       "11  I have reach out to several time in attempt to...   \n",
       "0   good morning my name be and I appreciate it if...   \n",
       "32  I buy a new on from in . I pay the loan in but...   \n",
       "30  I have wire through one of chase branch in the...   \n",
       "23  I have be try to do a loan modification with c...   \n",
       "41  my name be . I have miss a payment in and be d...   \n",
       "12  I open an account with chase bank on and use a...   \n",
       "10      mishandle of this account by chase auto and .   \n",
       "6   with out notice j.p . morgan chase restrict my...   \n",
       "4   my grand son give I check for I deposit it int...   \n",
       "15  I open the saving account for the bonus . I be...   \n",
       "13  to whom it may concern chase bank charge wrong...   \n",
       "7   during the summer month I experience a decline...   \n",
       "24  I make a purchase of on . I make payment of on...   \n",
       "33  I recently call to ask chase bank why they rep...   \n",
       "46  multiple time with the late being chase have m...   \n",
       "\n",
       "                                complaint_POS_removed  \\\n",
       "1   card agent anniversary date agent information ...   \n",
       "8   payment retailer chase pay chase website scam ...   \n",
       "18  chase email today title information change cha...   \n",
       "16  sofa love seat table chair debit card claim fu...   \n",
       "14  chase amazon card catering order brother funer...   \n",
       "2   chase card application identity consent servic...   \n",
       "3   ticket offer ticket reward card information of...   \n",
       "5                                             inquiry   \n",
       "9   chase credit card datum credit report company ...   \n",
       "11  time attempt inquiry creditor inquiry report a...   \n",
       "0   morning name stop debt verification statement ...   \n",
       "32  loan chase title chase time resolution time st...   \n",
       "30  chase branch reinstatement amount order forecl...   \n",
       "23          loan modification chase runaround payment   \n",
       "41  name payment day time loan modification loss m...   \n",
       "12  account code bonus term account deposit bonus ...   \n",
       "10                                 account chase auto   \n",
       "6   account debit card branch customer service rep...   \n",
       "4   son check chase account fund chase bank accoun...   \n",
       "15  saving account bonus bonus auto transfer savin...   \n",
       "13  concern overdraft fee alert balance fee balanc...   \n",
       "7   summer month decline income employment month p...   \n",
       "24  purchase payment payment closing date statemen...   \n",
       "33  chase bank credit bureau day payment info bill...   \n",
       "46  time being chase order credit debit account fe...   \n",
       "\n",
       "                                      Complaint_clean  Topic  topic  Topic_Num  \n",
       "1   card agent anniversary date agent information ...      0      0          0  \n",
       "8   payment retailer chase pay chase website scam ...      0      0          0  \n",
       "18  chase email today title information change cha...      0      0          0  \n",
       "16  sofa love seat table chair debit card claim fu...      0      0          0  \n",
       "14  chase amazon card catering order brother funer...      0      0          0  \n",
       "2   chase card application identity consent servic...      1      1          1  \n",
       "3   ticket offer ticket reward card information of...      1      1          1  \n",
       "5                                             inquiry      1      1          1  \n",
       "9   chase credit card datum credit report company ...      1      1          1  \n",
       "11  time attempt inquiry creditor inquiry report a...      1      1          1  \n",
       "0   morning name stop debt verification statement ...      2      2          2  \n",
       "32  loan chase title chase time resolution time st...      2      2          2  \n",
       "30  chase branch reinstatement amount order forecl...      2      2          2  \n",
       "23          loan modification chase runaround payment      2      2          2  \n",
       "41  name payment day time loan modification loss m...      2      2          2  \n",
       "12  account code bonus term account deposit bonus ...      3      3          3  \n",
       "10                                 account chase auto      3      3          3  \n",
       "6   account debit card branch customer service rep...      3      3          3  \n",
       "4   son check chase account fund chase bank accoun...      3      3          3  \n",
       "15  saving account bonus bonus auto transfer savin...      3      3          3  \n",
       "13  concern overdraft fee alert balance fee balanc...      4      4          4  \n",
       "7   summer month decline income employment month p...      4      4          4  \n",
       "24  purchase payment payment closing date statemen...      4      4          4  \n",
       "33  chase bank credit bureau day payment info bill...      4      4          4  \n",
       "46  time being chase order credit debit account fe...      4      4          4  "
      ]
     },
     "execution_count": 339,
     "metadata": {},
     "output_type": "execute_result"
    }
   ],
   "source": [
    "#Print the first 5 Complaint for each of the Topics\n",
    "df_clean.groupby('Topic').head(5).sort_values('Topic')"
   ]
  },
  {
   "cell_type": "markdown",
   "metadata": {
    "id": "piyLxzj6v07j"
   },
   "source": [
    "#### After evaluating the mapping, if the topics assigned are correct then assign these names to the relevant topic:\n",
    "* Bank Account services\n",
    "* Credit card or prepaid card\n",
    "* Theft/Dispute Reporting\n",
    "* Mortgage/Loan\n",
    "* Others"
   ]
  },
  {
   "cell_type": "code",
   "execution_count": 340,
   "metadata": {
    "id": "TWpwDG4RJrGG"
   },
   "outputs": [],
   "source": [
    "#Create the dictionary of Topic names and Topics\n",
    "Topic_names = {   0: 'Bank Account services',\n",
    "    1: 'Credit card or prepaid card',\n",
    "    2: 'Mortgage/Loan',\n",
    "    3: 'Theft/Dispute Reporting',\n",
    "    4: 'Others' }\n",
    "#Replace Topics with Topic Names\n",
    "df_clean['Topic'] = df_clean['Topic'].map(Topic_names)"
   ]
  },
  {
   "cell_type": "code",
   "execution_count": 341,
   "metadata": {
    "id": "-2ULY5K6JrGG"
   },
   "outputs": [
    {
     "data": {
      "text/html": [
       "<div>\n",
       "<style scoped>\n",
       "    .dataframe tbody tr th:only-of-type {\n",
       "        vertical-align: middle;\n",
       "    }\n",
       "\n",
       "    .dataframe tbody tr th {\n",
       "        vertical-align: top;\n",
       "    }\n",
       "\n",
       "    .dataframe thead th {\n",
       "        text-align: right;\n",
       "    }\n",
       "</style>\n",
       "<table border=\"1\" class=\"dataframe\">\n",
       "  <thead>\n",
       "    <tr style=\"text-align: right;\">\n",
       "      <th></th>\n",
       "      <th>complaints_clean</th>\n",
       "      <th>complaint_lemmatized</th>\n",
       "      <th>complaint_POS_removed</th>\n",
       "      <th>Complaint_clean</th>\n",
       "      <th>Topic</th>\n",
       "      <th>topic</th>\n",
       "      <th>Topic_Num</th>\n",
       "    </tr>\n",
       "  </thead>\n",
       "  <tbody>\n",
       "    <tr>\n",
       "      <th>0</th>\n",
       "      <td>good morning my name is and i appreciate it if...</td>\n",
       "      <td>good morning my name be and I appreciate it if...</td>\n",
       "      <td>morning name stop debt verification statement ...</td>\n",
       "      <td>morning name stop debt verification statement ...</td>\n",
       "      <td>Mortgage/Loan</td>\n",
       "      <td>2</td>\n",
       "      <td>2</td>\n",
       "    </tr>\n",
       "    <tr>\n",
       "      <th>1</th>\n",
       "      <td>i upgraded my card in and was told by the agen...</td>\n",
       "      <td>I upgrade my card in and be tell by the agent ...</td>\n",
       "      <td>card agent anniversary date agent information ...</td>\n",
       "      <td>card agent anniversary date agent information ...</td>\n",
       "      <td>Bank Account services</td>\n",
       "      <td>0</td>\n",
       "      <td>0</td>\n",
       "    </tr>\n",
       "    <tr>\n",
       "      <th>2</th>\n",
       "      <td>chase card was reported on . however fraudulen...</td>\n",
       "      <td>chase card be report on . however fraudulent a...</td>\n",
       "      <td>chase card application identity consent servic...</td>\n",
       "      <td>chase card application identity consent servic...</td>\n",
       "      <td>Credit card or prepaid card</td>\n",
       "      <td>1</td>\n",
       "      <td>1</td>\n",
       "    </tr>\n",
       "    <tr>\n",
       "      <th>3</th>\n",
       "      <td>on while trying to book a ticket i came across...</td>\n",
       "      <td>on while try to book a ticket I come across an...</td>\n",
       "      <td>ticket offer ticket reward card information of...</td>\n",
       "      <td>ticket offer ticket reward card information of...</td>\n",
       "      <td>Credit card or prepaid card</td>\n",
       "      <td>1</td>\n",
       "      <td>1</td>\n",
       "    </tr>\n",
       "    <tr>\n",
       "      <th>4</th>\n",
       "      <td>my grand son give me check for i deposit it in...</td>\n",
       "      <td>my grand son give I check for I deposit it int...</td>\n",
       "      <td>son check chase account fund chase bank accoun...</td>\n",
       "      <td>son check chase account fund chase bank accoun...</td>\n",
       "      <td>Theft/Dispute Reporting</td>\n",
       "      <td>3</td>\n",
       "      <td>3</td>\n",
       "    </tr>\n",
       "  </tbody>\n",
       "</table>\n",
       "</div>"
      ],
      "text/plain": [
       "                                    complaints_clean  \\\n",
       "0  good morning my name is and i appreciate it if...   \n",
       "1  i upgraded my card in and was told by the agen...   \n",
       "2  chase card was reported on . however fraudulen...   \n",
       "3  on while trying to book a ticket i came across...   \n",
       "4  my grand son give me check for i deposit it in...   \n",
       "\n",
       "                                complaint_lemmatized  \\\n",
       "0  good morning my name be and I appreciate it if...   \n",
       "1  I upgrade my card in and be tell by the agent ...   \n",
       "2  chase card be report on . however fraudulent a...   \n",
       "3  on while try to book a ticket I come across an...   \n",
       "4  my grand son give I check for I deposit it int...   \n",
       "\n",
       "                               complaint_POS_removed  \\\n",
       "0  morning name stop debt verification statement ...   \n",
       "1  card agent anniversary date agent information ...   \n",
       "2  chase card application identity consent servic...   \n",
       "3  ticket offer ticket reward card information of...   \n",
       "4  son check chase account fund chase bank accoun...   \n",
       "\n",
       "                                     Complaint_clean  \\\n",
       "0  morning name stop debt verification statement ...   \n",
       "1  card agent anniversary date agent information ...   \n",
       "2  chase card application identity consent servic...   \n",
       "3  ticket offer ticket reward card information of...   \n",
       "4  son check chase account fund chase bank accoun...   \n",
       "\n",
       "                         Topic  topic  Topic_Num  \n",
       "0                Mortgage/Loan      2          2  \n",
       "1        Bank Account services      0          0  \n",
       "2  Credit card or prepaid card      1          1  \n",
       "3  Credit card or prepaid card      1          1  \n",
       "4      Theft/Dispute Reporting      3          3  "
      ]
     },
     "execution_count": 341,
     "metadata": {},
     "output_type": "execute_result"
    }
   ],
   "source": [
    "df_clean.head()"
   ]
  },
  {
   "cell_type": "markdown",
   "metadata": {
    "id": "7Mu0QBOcJrGH"
   },
   "source": [
    "## Supervised model to predict any new complaints to the relevant Topics.\n",
    "\n",
    "You have now build the model to create the topics for each complaints.Now in the below section you will use them to classify any new complaints.\n",
    "\n",
    "Since you will be using supervised learning technique we have to convert the topic names to numbers(numpy arrays only understand numbers)"
   ]
  },
  {
   "cell_type": "code",
   "execution_count": 342,
   "metadata": {
    "id": "Xx-FrbkWJrGH"
   },
   "outputs": [],
   "source": [
    "#Keep the columns\"complaint_what_happened\" & \"Topic\" only in the new dataframe --> training_data\n",
    "training_data = df_clean[[\"complaints_clean\", \"Topic_Num\"]]"
   ]
  },
  {
   "cell_type": "code",
   "execution_count": 343,
   "metadata": {
    "id": "lVg2pa12JrGI"
   },
   "outputs": [
    {
     "data": {
      "text/html": [
       "<div>\n",
       "<style scoped>\n",
       "    .dataframe tbody tr th:only-of-type {\n",
       "        vertical-align: middle;\n",
       "    }\n",
       "\n",
       "    .dataframe tbody tr th {\n",
       "        vertical-align: top;\n",
       "    }\n",
       "\n",
       "    .dataframe thead th {\n",
       "        text-align: right;\n",
       "    }\n",
       "</style>\n",
       "<table border=\"1\" class=\"dataframe\">\n",
       "  <thead>\n",
       "    <tr style=\"text-align: right;\">\n",
       "      <th></th>\n",
       "      <th>complaints_clean</th>\n",
       "      <th>Topic_Num</th>\n",
       "    </tr>\n",
       "  </thead>\n",
       "  <tbody>\n",
       "    <tr>\n",
       "      <th>0</th>\n",
       "      <td>good morning my name is and i appreciate it if...</td>\n",
       "      <td>2</td>\n",
       "    </tr>\n",
       "    <tr>\n",
       "      <th>1</th>\n",
       "      <td>i upgraded my card in and was told by the agen...</td>\n",
       "      <td>0</td>\n",
       "    </tr>\n",
       "    <tr>\n",
       "      <th>2</th>\n",
       "      <td>chase card was reported on . however fraudulen...</td>\n",
       "      <td>1</td>\n",
       "    </tr>\n",
       "    <tr>\n",
       "      <th>3</th>\n",
       "      <td>on while trying to book a ticket i came across...</td>\n",
       "      <td>1</td>\n",
       "    </tr>\n",
       "    <tr>\n",
       "      <th>4</th>\n",
       "      <td>my grand son give me check for i deposit it in...</td>\n",
       "      <td>3</td>\n",
       "    </tr>\n",
       "  </tbody>\n",
       "</table>\n",
       "</div>"
      ],
      "text/plain": [
       "                                    complaints_clean  Topic_Num\n",
       "0  good morning my name is and i appreciate it if...          2\n",
       "1  i upgraded my card in and was told by the agen...          0\n",
       "2  chase card was reported on . however fraudulen...          1\n",
       "3  on while trying to book a ticket i came across...          1\n",
       "4  my grand son give me check for i deposit it in...          3"
      ]
     },
     "execution_count": 343,
     "metadata": {},
     "output_type": "execute_result"
    }
   ],
   "source": [
    "training_data.head()"
   ]
  },
  {
   "cell_type": "code",
   "execution_count": 344,
   "metadata": {},
   "outputs": [
    {
     "data": {
      "text/plain": [
       "(21072, 2)"
      ]
     },
     "execution_count": 344,
     "metadata": {},
     "output_type": "execute_result"
    }
   ],
   "source": [
    "training_data.shape"
   ]
  },
  {
   "cell_type": "markdown",
   "metadata": {
    "id": "280Vbqk-7a8M"
   },
   "source": [
    "#### Apply the supervised models on the training data created. In this process, you have to do the following:\n",
    "* Create the vector counts using Count Vectoriser\n",
    "* Transform the word vecotr to tf-idf\n",
    "* Create the train & test data using the train_test_split on the tf-idf & topics\n"
   ]
  },
  {
   "cell_type": "code",
   "execution_count": 345,
   "metadata": {},
   "outputs": [],
   "source": [
    "from sklearn.model_selection import train_test_split\n",
    "from sklearn.feature_extraction.text import TfidfTransformer"
   ]
  },
  {
   "cell_type": "code",
   "execution_count": 346,
   "metadata": {},
   "outputs": [],
   "source": [
    "X_train, X_test, y_train, y_test = train_test_split(training_data.complaints_clean, training_data.Topic_Num, train_size=0.8, random_state=40)"
   ]
  },
  {
   "cell_type": "code",
   "execution_count": 347,
   "metadata": {},
   "outputs": [
    {
     "name": "stdout",
     "output_type": "stream",
     "text": [
      "(16857, 27283) (16857,)\n",
      "(4215, 27283) (4215,)\n"
     ]
    }
   ],
   "source": [
    "#Write your code to get the Vector count\n",
    "count_vect = CountVectorizer()\n",
    "X_train = count_vect.fit_transform(X_train)\n",
    "X_test = count_vect.transform(X_test)\n",
    "\n",
    "#Write your code here to transform the word vector to tf-idf\n",
    "tfidf_transformer = TfidfTransformer()\n",
    "X_train = tfidf_transformer.fit_transform(X_train)\n",
    "X_test = tfidf_transformer.transform(X_test)\n",
    "\n",
    "print(X_train.shape, y_train.shape)\n",
    "print(X_test.shape, y_test.shape)"
   ]
  },
  {
   "cell_type": "markdown",
   "metadata": {
    "id": "uMU3vj6w-wqL"
   },
   "source": [
    "You have to try atleast 3 models on the train & test data from these options:\n",
    "* Logistic regression\n",
    "* Decision Tree\n",
    "* Random Forest\n",
    "* Naive Bayes (optional)\n",
    "\n",
    "**Using the required evaluation metrics judge the tried models and select the ones performing the best**"
   ]
  },
  {
   "cell_type": "code",
   "execution_count": 366,
   "metadata": {},
   "outputs": [],
   "source": [
    "from sklearn.linear_model import LogisticRegression\n",
    "from sklearn.metrics import classification_report,confusion_matrix\n",
    "from sklearn import metrics\n",
    "from sklearn.tree import DecisionTreeClassifier\n",
    "from sklearn.ensemble import RandomForestClassifier\n",
    "\n",
    "def find_performance(y_test, y_pred):\n",
    "    print(f\"Accuracy: {metrics.accuracy_score(y_test, y_pred)}\")\n",
    "    print(f\"Precision: {metrics.precision_score(y_test,y_pred, average='weighted')}\")\n",
    "    print(f\"Recall: {metrics.recall_score(y_test,y_pred, average='weighted')}\")\n",
    "    print(f\"F1_score: {metrics.f1_score(y_test,y_pred, average='weighted')}\")"
   ]
  },
  {
   "cell_type": "code",
   "execution_count": 364,
   "metadata": {
    "id": "udLHpPsZJrGI"
   },
   "outputs": [
    {
     "name": "stdout",
     "output_type": "stream",
     "text": [
      "\n",
      "---------------Logistic Regression-------------\n",
      "\n",
      "Accuracy: 0.9501779359430605\n",
      "Precision: 0.9507395861215334\n",
      "Recall: 0.9501779359430605\n",
      "F1_score: 0.9500440251783793\n"
     ]
    },
    {
     "data": {
      "image/png": "[encoded data removed]",
      "text/plain": [
       "<Figure size 432x288 with 2 Axes>"
      ]
     },
     "metadata": {
      "needs_background": "light"
     },
     "output_type": "display_data"
    },
    {
     "data": {
      "image/png": "[encoded data removed]",
      "text/plain": [
       "<Figure size 432x288 with 2 Axes>"
      ]
     },
     "metadata": {
      "needs_background": "light"
     },
     "output_type": "display_data"
    }
   ],
   "source": [
    "# logistic regression\n",
    "print(\"\\n---------------Logistic Regression-------------\\n\")\n",
    "lr = LogisticRegression(random_state=42, max_iter=500)\n",
    "lr.fit(X_train, y_train)\n",
    "y_train_pred = lr.predict(X_train)\n",
    "y_test_pred = lr.predict(X_test)\n",
    "find_performance(y_test, y_test_pred)\n",
    "metrics.plot_confusion_matrix(lr, X_train, y_train, cmap=\"Greens\")\n",
    "plt.title(\"Train data\")\n",
    "plt.show()\n",
    "metrics.plot_confusion_matrix(lr, X_test, y_test, cmap=\"Greens\") \n",
    "plt.title(\"Test data\")\n",
    "plt.show()"
   ]
  },
  {
   "cell_type": "code",
   "execution_count": 368,
   "metadata": {
    "id": "N2OznsObJrGP"
   },
   "outputs": [
    {
     "name": "stdout",
     "output_type": "stream",
     "text": [
      "\n",
      "---------------Decision Tree classifier-------------\n",
      "\n",
      "Accuracy: 0.7788849347568209\n",
      "Precision: 0.7788865950087563\n",
      "Recall: 0.7788849347568209\n",
      "F1_score: 0.7788042227035363\n"
     ]
    },
    {
     "data": {
      "image/png": "[encoded data removed]",
      "text/plain": [
       "<Figure size 432x288 with 2 Axes>"
      ]
     },
     "metadata": {
      "needs_background": "light"
     },
     "output_type": "display_data"
    },
    {
     "data": {
      "image/png": "[encoded data removed]",
      "text/plain": [
       "<Figure size 432x288 with 2 Axes>"
      ]
     },
     "metadata": {
      "needs_background": "light"
     },
     "output_type": "display_data"
    }
   ],
   "source": [
    "# Decision tree\n",
    "print(\"\\n---------------Decision Tree classifier-------------\\n\")\n",
    "tree = DecisionTreeClassifier(random_state=42)\n",
    "tree.fit(X_train, y_train)\n",
    "y_train_pred = tree.predict(X_train)\n",
    "y_test_pred = tree.predict(X_test)\n",
    "find_performance(y_test, y_test_pred)\n",
    "metrics.plot_confusion_matrix(tree, X_train, y_train, cmap=\"Greens\")\n",
    "plt.title(\"Train data\")\n",
    "plt.show()\n",
    "metrics.plot_confusion_matrix(tree, X_test, y_test, cmap=\"Greens\") \n",
    "plt.title(\"Test data\")\n",
    "plt.show()"
   ]
  },
  {
   "cell_type": "code",
   "execution_count": 369,
   "metadata": {},
   "outputs": [
    {
     "name": "stdout",
     "output_type": "stream",
     "text": [
      "\n",
      "---------------Random Forest-------------\n",
      "\n",
      "Accuracy: 0.842467378410439\n",
      "Precision: 0.8500159655480966\n",
      "Recall: 0.842467378410439\n",
      "F1_score: 0.8387964481529114\n"
     ]
    },
    {
     "data": {
      "image/png": "[encoded data removed]",
      "text/plain": [
       "<Figure size 432x288 with 2 Axes>"
      ]
     },
     "metadata": {
      "needs_background": "light"
     },
     "output_type": "display_data"
    },
    {
     "data": {
      "image/png": "[encoded data removed]",
      "text/plain": [
       "<Figure size 432x288 with 2 Axes>"
      ]
     },
     "metadata": {
      "needs_background": "light"
     },
     "output_type": "display_data"
    }
   ],
   "source": [
    "# Random Forest\n",
    "print(\"\\n---------------Random Forest-------------\\n\")\n",
    "tree = RandomForestClassifier(random_state=42)\n",
    "tree.fit(X_train, y_train)\n",
    "y_train_pred = tree.predict(X_train)\n",
    "y_test_pred = tree.predict(X_test)\n",
    "find_performance(y_test, y_test_pred)\n",
    "metrics.plot_confusion_matrix(tree, X_train, y_train, cmap=\"Greens\")\n",
    "plt.title(\"Train data\")\n",
    "plt.show()\n",
    "metrics.plot_confusion_matrix(tree, X_test, y_test, cmap=\"Greens\") \n",
    "plt.title(\"Test data\")\n",
    "plt.show()"
   ]
  },
  {
   "cell_type": "code",
   "execution_count": null,
   "metadata": {},
   "outputs": [],
   "source": []
  }
 ],
 "metadata": {
  "colab": {
   "collapsed_sections": [
    "T9jD_6SeJrF3",
    "5DfCSbbmJrF4",
    "yYzD85nTJrGA",
    "piyLxzj6v07j",
    "280Vbqk-7a8M"
   ],
   "provenance": []
  },
  "kernelspec": {
   "display_name": "Python 3 (ipykernel)",
   "language": "python",
   "name": "python3"
  },
  "language_info": {
   "codemirror_mode": {
    "name": "ipython",
    "version": 3
   },
   "file_extension": ".py",
   "mimetype": "text/x-python",
   "name": "python",
   "nbconvert_exporter": "python",
   "pygments_lexer": "ipython3",
   "version": "3.9.7"
  }
 },
 "nbformat": 4,
 "nbformat_minor": 1
}
